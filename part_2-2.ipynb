{
  "cells": [
    {
      "cell_type": "markdown",
      "metadata": {
        "id": "main_title"
      },
      "source": [
        "# 🏥 Complete Medical Intelligence System with Vector Search\n",
        "\n",
        "This notebook implements a comprehensive medical analysis system using BigFrames and Google Cloud technologies. The system is designed to provide intelligent patient analysis, homeopathic medicine recognition, and advanced AI-powered medical insights.\n",
        "\n",
        "## 🎯 **System Overview**\n",
        "\n",
        "Our medical intelligence system combines cutting-edge AI technologies to create a powerful tool for:\n",
        "- **Semantic Patient Search**: Find similar patients using vector embeddings\n",
        "- **Medical Prescription Analysis**: Decode homeopathic medicine abbreviations\n",
        "- **Intelligent Recommendations**: AI-powered health insights and suggestions\n",
        "\n",
        "## 🔧 **Technologies Used**\n",
        "\n",
        "| Technology | Purpose | Capability |\n",
        "|------------|---------|------------|\n",
        "| `bigframes.ml.llm.TextEmbeddingGenerator` | Generate semantic embeddings | Vector representations of patient data |\n",
        "| `bigframes.bigquery.vector_search` | Semantic similarity search | Find similar patients by medical conditions |\n",
        "| `bigframes.ml.llm.GeminiTextGenerator` | AI-powered analysis | Generate medical insights and recommendations |\n",
        "\n",
        "\n",
        "## 📚 **Notebook Structure**\n",
        "\n",
        "This notebook is organized into **3 comprehensive modules**, each building upon the previous one:\n",
        "\n",
        "### **Core BigFrames Implementation**\n",
        "**Foundation Layer** - Essential vector search and AI capabilities\n",
        "- Environment setup and data processing\n",
        "- Vector embeddings generation and storage\n",
        "- Basic semantic search functionality\n",
        "- AI analysis and forecasting setup\n"
      ]
    },
    {
      "cell_type": "markdown",
      "metadata": {
        "id": "Kr2oIAWTswGW"
      },
      "source": [
        "## 📦 Step 1: Install Required Packages\n"
      ]
    },
    {
      "cell_type": "code",
      "execution_count": null,
      "metadata": {
        "colab": {
          "base_uri": "https://localhost:8080/"
        },
        "collapsed": true,
        "id": "4cpWHN2LswGX",
        "outputId": "0607c739-4e0e-401b-a92b-251230925758"
      },
      "outputs": [
        {
          "output_type": "stream",
          "name": "stdout",
          "text": [
            "Requirement already satisfied: bigframes in /usr/local/lib/python3.12/dist-packages (2.19.0)\n",
            "Requirement already satisfied: pandas in /usr/local/lib/python3.12/dist-packages (2.2.2)\n",
            "Requirement already satisfied: google-cloud-bigquery in /usr/local/lib/python3.12/dist-packages (3.37.0)\n",
            "Requirement already satisfied: cloudpickle>=2.0.0 in /usr/local/lib/python3.12/dist-packages (from bigframes) (3.1.1)\n",
            "Requirement already satisfied: fsspec>=2023.3.0 in /usr/local/lib/python3.12/dist-packages (from bigframes) (2025.3.0)\n",
            "Requirement already satisfied: gcsfs!=2025.5.0,>=2023.3.0 in /usr/local/lib/python3.12/dist-packages (from bigframes) (2025.3.0)\n",
            "Requirement already satisfied: geopandas>=0.12.2 in /usr/local/lib/python3.12/dist-packages (from bigframes) (1.1.1)\n",
            "Requirement already satisfied: google-auth<3.0,>=2.15.0 in /usr/local/lib/python3.12/dist-packages (from bigframes) (2.38.0)\n",
            "Requirement already satisfied: google-cloud-bigquery-storage<3.0.0,>=2.30.0 in /usr/local/lib/python3.12/dist-packages (from bigframes) (2.33.0)\n",
            "Requirement already satisfied: google-cloud-functions>=1.12.0 in /usr/local/lib/python3.12/dist-packages (from bigframes) (1.20.4)\n",
            "Requirement already satisfied: google-cloud-bigquery-connection>=1.12.0 in /usr/local/lib/python3.12/dist-packages (from bigframes) (1.18.3)\n",
            "Requirement already satisfied: google-cloud-resource-manager>=1.10.3 in /usr/local/lib/python3.12/dist-packages (from bigframes) (1.14.2)\n",
            "Requirement already satisfied: google-cloud-storage>=2.0.0 in /usr/local/lib/python3.12/dist-packages (from bigframes) (2.19.0)\n",
            "Requirement already satisfied: grpc-google-iam-v1>=0.14.2 in /usr/local/lib/python3.12/dist-packages (from bigframes) (0.14.2)\n",
            "Requirement already satisfied: numpy>=1.24.0 in /usr/local/lib/python3.12/dist-packages (from bigframes) (2.0.2)\n",
            "Requirement already satisfied: pandas-gbq>=0.26.1 in /usr/local/lib/python3.12/dist-packages (from bigframes) (0.29.2)\n",
            "Requirement already satisfied: pyarrow>=15.0.2 in /usr/local/lib/python3.12/dist-packages (from bigframes) (18.1.0)\n",
            "Requirement already satisfied: pydata-google-auth>=1.8.2 in /usr/local/lib/python3.12/dist-packages (from bigframes) (1.9.1)\n",
            "Requirement already satisfied: requests>=2.27.1 in /usr/local/lib/python3.12/dist-packages (from bigframes) (2.32.4)\n",
            "Requirement already satisfied: shapely>=1.8.5 in /usr/local/lib/python3.12/dist-packages (from bigframes) (2.1.1)\n",
            "Requirement already satisfied: sqlglot>=23.6.3 in /usr/local/lib/python3.12/dist-packages (from bigframes) (25.20.2)\n",
            "Requirement already satisfied: tabulate>=0.9 in /usr/local/lib/python3.12/dist-packages (from bigframes) (0.9.0)\n",
            "Requirement already satisfied: ipywidgets>=7.7.1 in /usr/local/lib/python3.12/dist-packages (from bigframes) (7.7.1)\n",
            "Requirement already satisfied: humanize>=4.6.0 in /usr/local/lib/python3.12/dist-packages (from bigframes) (4.13.0)\n",
            "Requirement already satisfied: matplotlib>=3.7.1 in /usr/local/lib/python3.12/dist-packages (from bigframes) (3.10.0)\n",
            "Requirement already satisfied: db-dtypes>=1.4.2 in /usr/local/lib/python3.12/dist-packages (from bigframes) (1.4.3)\n",
            "Requirement already satisfied: atpublic<6,>=2.3 in /usr/local/lib/python3.12/dist-packages (from bigframes) (5.1)\n",
            "Requirement already satisfied: python-dateutil<3,>=2.8.2 in /usr/local/lib/python3.12/dist-packages (from bigframes) (2.9.0.post0)\n",
            "Requirement already satisfied: pytz>=2022.7 in /usr/local/lib/python3.12/dist-packages (from bigframes) (2025.2)\n",
            "Requirement already satisfied: toolz<2,>=0.11 in /usr/local/lib/python3.12/dist-packages (from bigframes) (0.12.1)\n",
            "Requirement already satisfied: typing-extensions<5,>=4.5.0 in /usr/local/lib/python3.12/dist-packages (from bigframes) (4.15.0)\n",
            "Requirement already satisfied: rich<14,>=12.4.4 in /usr/local/lib/python3.12/dist-packages (from bigframes) (13.9.4)\n",
            "Requirement already satisfied: tzdata>=2022.7 in /usr/local/lib/python3.12/dist-packages (from pandas) (2025.2)\n",
            "Requirement already satisfied: google-api-core<3.0.0,>=2.11.1 in /usr/local/lib/python3.12/dist-packages (from google-api-core[grpc]<3.0.0,>=2.11.1->google-cloud-bigquery) (2.25.1)\n",
            "Requirement already satisfied: google-cloud-core<3.0.0,>=2.4.1 in /usr/local/lib/python3.12/dist-packages (from google-cloud-bigquery) (2.4.3)\n",
            "Requirement already satisfied: google-resumable-media<3.0.0,>=2.0.0 in /usr/local/lib/python3.12/dist-packages (from google-cloud-bigquery) (2.7.2)\n",
            "Requirement already satisfied: packaging>=24.2.0 in /usr/local/lib/python3.12/dist-packages (from google-cloud-bigquery) (25.0)\n",
            "Requirement already satisfied: aiohttp!=4.0.0a0,!=4.0.0a1 in /usr/local/lib/python3.12/dist-packages (from gcsfs!=2025.5.0,>=2023.3.0->bigframes) (3.12.15)\n",
            "Requirement already satisfied: decorator>4.1.2 in /usr/local/lib/python3.12/dist-packages (from gcsfs!=2025.5.0,>=2023.3.0->bigframes) (4.4.2)\n",
            "Requirement already satisfied: google-auth-oauthlib in /usr/local/lib/python3.12/dist-packages (from gcsfs!=2025.5.0,>=2023.3.0->bigframes) (1.2.2)\n",
            "Requirement already satisfied: pyogrio>=0.7.2 in /usr/local/lib/python3.12/dist-packages (from geopandas>=0.12.2->bigframes) (0.11.1)\n",
            "Requirement already satisfied: pyproj>=3.5.0 in /usr/local/lib/python3.12/dist-packages (from geopandas>=0.12.2->bigframes) (3.7.2)\n",
            "Requirement already satisfied: googleapis-common-protos<2.0.0,>=1.56.2 in /usr/local/lib/python3.12/dist-packages (from google-api-core<3.0.0,>=2.11.1->google-api-core[grpc]<3.0.0,>=2.11.1->google-cloud-bigquery) (1.70.0)\n",
            "Requirement already satisfied: protobuf!=3.20.0,!=3.20.1,!=4.21.0,!=4.21.1,!=4.21.2,!=4.21.3,!=4.21.4,!=4.21.5,<7.0.0,>=3.19.5 in /usr/local/lib/python3.12/dist-packages (from google-api-core<3.0.0,>=2.11.1->google-api-core[grpc]<3.0.0,>=2.11.1->google-cloud-bigquery) (5.29.5)\n",
            "Requirement already satisfied: proto-plus<2.0.0,>=1.22.3 in /usr/local/lib/python3.12/dist-packages (from google-api-core<3.0.0,>=2.11.1->google-api-core[grpc]<3.0.0,>=2.11.1->google-cloud-bigquery) (1.26.1)\n",
            "Requirement already satisfied: grpcio<2.0.0,>=1.33.2 in /usr/local/lib/python3.12/dist-packages (from google-api-core[grpc]<3.0.0,>=2.11.1->google-cloud-bigquery) (1.74.0)\n",
            "Requirement already satisfied: grpcio-status<2.0.0,>=1.33.2 in /usr/local/lib/python3.12/dist-packages (from google-api-core[grpc]<3.0.0,>=2.11.1->google-cloud-bigquery) (1.71.2)\n",
            "Requirement already satisfied: cachetools<6.0,>=2.0.0 in /usr/local/lib/python3.12/dist-packages (from google-auth<3.0,>=2.15.0->bigframes) (5.5.2)\n",
            "Requirement already satisfied: pyasn1-modules>=0.2.1 in /usr/local/lib/python3.12/dist-packages (from google-auth<3.0,>=2.15.0->bigframes) (0.4.2)\n",
            "Requirement already satisfied: rsa<5,>=3.1.4 in /usr/local/lib/python3.12/dist-packages (from google-auth<3.0,>=2.15.0->bigframes) (4.9.1)\n",
            "Requirement already satisfied: google-crc32c<2.0dev,>=1.0 in /usr/local/lib/python3.12/dist-packages (from google-cloud-storage>=2.0.0->bigframes) (1.7.1)\n",
            "Requirement already satisfied: ipykernel>=4.5.1 in /usr/local/lib/python3.12/dist-packages (from ipywidgets>=7.7.1->bigframes) (6.17.1)\n",
            "Requirement already satisfied: ipython-genutils~=0.2.0 in /usr/local/lib/python3.12/dist-packages (from ipywidgets>=7.7.1->bigframes) (0.2.0)\n",
            "Requirement already satisfied: traitlets>=4.3.1 in /usr/local/lib/python3.12/dist-packages (from ipywidgets>=7.7.1->bigframes) (5.7.1)\n",
            "Requirement already satisfied: widgetsnbextension~=3.6.0 in /usr/local/lib/python3.12/dist-packages (from ipywidgets>=7.7.1->bigframes) (3.6.10)\n",
            "Requirement already satisfied: ipython>=4.0.0 in /usr/local/lib/python3.12/dist-packages (from ipywidgets>=7.7.1->bigframes) (7.34.0)\n",
            "Requirement already satisfied: jupyterlab-widgets>=1.0.0 in /usr/local/lib/python3.12/dist-packages (from ipywidgets>=7.7.1->bigframes) (3.0.15)\n",
            "Requirement already satisfied: contourpy>=1.0.1 in /usr/local/lib/python3.12/dist-packages (from matplotlib>=3.7.1->bigframes) (1.3.3)\n",
            "Requirement already satisfied: cycler>=0.10 in /usr/local/lib/python3.12/dist-packages (from matplotlib>=3.7.1->bigframes) (0.12.1)\n",
            "Requirement already satisfied: fonttools>=4.22.0 in /usr/local/lib/python3.12/dist-packages (from matplotlib>=3.7.1->bigframes) (4.59.2)\n",
            "Requirement already satisfied: kiwisolver>=1.3.1 in /usr/local/lib/python3.12/dist-packages (from matplotlib>=3.7.1->bigframes) (1.4.9)\n",
            "Requirement already satisfied: pillow>=8 in /usr/local/lib/python3.12/dist-packages (from matplotlib>=3.7.1->bigframes) (11.3.0)\n",
            "Requirement already satisfied: pyparsing>=2.3.1 in /usr/local/lib/python3.12/dist-packages (from matplotlib>=3.7.1->bigframes) (3.2.3)\n",
            "Requirement already satisfied: setuptools in /usr/local/lib/python3.12/dist-packages (from pandas-gbq>=0.26.1->bigframes) (75.2.0)\n",
            "Requirement already satisfied: six>=1.5 in /usr/local/lib/python3.12/dist-packages (from python-dateutil<3,>=2.8.2->bigframes) (1.17.0)\n",
            "Requirement already satisfied: charset_normalizer<4,>=2 in /usr/local/lib/python3.12/dist-packages (from requests>=2.27.1->bigframes) (3.4.3)\n",
            "Requirement already satisfied: idna<4,>=2.5 in /usr/local/lib/python3.12/dist-packages (from requests>=2.27.1->bigframes) (3.10)\n",
            "Requirement already satisfied: urllib3<3,>=1.21.1 in /usr/local/lib/python3.12/dist-packages (from requests>=2.27.1->bigframes) (2.5.0)\n",
            "Requirement already satisfied: certifi>=2017.4.17 in /usr/local/lib/python3.12/dist-packages (from requests>=2.27.1->bigframes) (2025.8.3)\n",
            "Requirement already satisfied: markdown-it-py>=2.2.0 in /usr/local/lib/python3.12/dist-packages (from rich<14,>=12.4.4->bigframes) (4.0.0)\n",
            "Requirement already satisfied: pygments<3.0.0,>=2.13.0 in /usr/local/lib/python3.12/dist-packages (from rich<14,>=12.4.4->bigframes) (2.19.2)\n",
            "Requirement already satisfied: aiohappyeyeballs>=2.5.0 in /usr/local/lib/python3.12/dist-packages (from aiohttp!=4.0.0a0,!=4.0.0a1->gcsfs!=2025.5.0,>=2023.3.0->bigframes) (2.6.1)\n",
            "Requirement already satisfied: aiosignal>=1.4.0 in /usr/local/lib/python3.12/dist-packages (from aiohttp!=4.0.0a0,!=4.0.0a1->gcsfs!=2025.5.0,>=2023.3.0->bigframes) (1.4.0)\n",
            "Requirement already satisfied: attrs>=17.3.0 in /usr/local/lib/python3.12/dist-packages (from aiohttp!=4.0.0a0,!=4.0.0a1->gcsfs!=2025.5.0,>=2023.3.0->bigframes) (25.3.0)\n",
            "Requirement already satisfied: frozenlist>=1.1.1 in /usr/local/lib/python3.12/dist-packages (from aiohttp!=4.0.0a0,!=4.0.0a1->gcsfs!=2025.5.0,>=2023.3.0->bigframes) (1.7.0)\n",
            "Requirement already satisfied: multidict<7.0,>=4.5 in /usr/local/lib/python3.12/dist-packages (from aiohttp!=4.0.0a0,!=4.0.0a1->gcsfs!=2025.5.0,>=2023.3.0->bigframes) (6.6.4)\n",
            "Requirement already satisfied: propcache>=0.2.0 in /usr/local/lib/python3.12/dist-packages (from aiohttp!=4.0.0a0,!=4.0.0a1->gcsfs!=2025.5.0,>=2023.3.0->bigframes) (0.3.2)\n",
            "Requirement already satisfied: yarl<2.0,>=1.17.0 in /usr/local/lib/python3.12/dist-packages (from aiohttp!=4.0.0a0,!=4.0.0a1->gcsfs!=2025.5.0,>=2023.3.0->bigframes) (1.20.1)\n",
            "Requirement already satisfied: requests-oauthlib>=0.7.0 in /usr/local/lib/python3.12/dist-packages (from google-auth-oauthlib->gcsfs!=2025.5.0,>=2023.3.0->bigframes) (2.0.0)\n",
            "Requirement already satisfied: debugpy>=1.0 in /usr/local/lib/python3.12/dist-packages (from ipykernel>=4.5.1->ipywidgets>=7.7.1->bigframes) (1.8.15)\n",
            "Requirement already satisfied: jupyter-client>=6.1.12 in /usr/local/lib/python3.12/dist-packages (from ipykernel>=4.5.1->ipywidgets>=7.7.1->bigframes) (7.4.9)\n",
            "Requirement already satisfied: matplotlib-inline>=0.1 in /usr/local/lib/python3.12/dist-packages (from ipykernel>=4.5.1->ipywidgets>=7.7.1->bigframes) (0.1.7)\n",
            "Requirement already satisfied: nest-asyncio in /usr/local/lib/python3.12/dist-packages (from ipykernel>=4.5.1->ipywidgets>=7.7.1->bigframes) (1.6.0)\n",
            "Requirement already satisfied: psutil in /usr/local/lib/python3.12/dist-packages (from ipykernel>=4.5.1->ipywidgets>=7.7.1->bigframes) (5.9.5)\n",
            "Requirement already satisfied: pyzmq>=17 in /usr/local/lib/python3.12/dist-packages (from ipykernel>=4.5.1->ipywidgets>=7.7.1->bigframes) (26.2.1)\n",
            "Requirement already satisfied: tornado>=6.1 in /usr/local/lib/python3.12/dist-packages (from ipykernel>=4.5.1->ipywidgets>=7.7.1->bigframes) (6.4.2)\n",
            "Collecting jedi>=0.16 (from ipython>=4.0.0->ipywidgets>=7.7.1->bigframes)\n",
            "  Downloading jedi-0.19.2-py2.py3-none-any.whl.metadata (22 kB)\n",
            "Requirement already satisfied: pickleshare in /usr/local/lib/python3.12/dist-packages (from ipython>=4.0.0->ipywidgets>=7.7.1->bigframes) (0.7.5)\n",
            "Requirement already satisfied: prompt-toolkit!=3.0.0,!=3.0.1,<3.1.0,>=2.0.0 in /usr/local/lib/python3.12/dist-packages (from ipython>=4.0.0->ipywidgets>=7.7.1->bigframes) (3.0.52)\n",
            "Requirement already satisfied: backcall in /usr/local/lib/python3.12/dist-packages (from ipython>=4.0.0->ipywidgets>=7.7.1->bigframes) (0.2.0)\n",
            "Requirement already satisfied: pexpect>4.3 in /usr/local/lib/python3.12/dist-packages (from ipython>=4.0.0->ipywidgets>=7.7.1->bigframes) (4.9.0)\n",
            "Requirement already satisfied: mdurl~=0.1 in /usr/local/lib/python3.12/dist-packages (from markdown-it-py>=2.2.0->rich<14,>=12.4.4->bigframes) (0.1.2)\n",
            "Requirement already satisfied: pyasn1<0.7.0,>=0.6.1 in /usr/local/lib/python3.12/dist-packages (from pyasn1-modules>=0.2.1->google-auth<3.0,>=2.15.0->bigframes) (0.6.1)\n",
            "Requirement already satisfied: notebook>=4.4.1 in /usr/local/lib/python3.12/dist-packages (from widgetsnbextension~=3.6.0->ipywidgets>=7.7.1->bigframes) (6.5.7)\n",
            "Requirement already satisfied: parso<0.9.0,>=0.8.4 in /usr/local/lib/python3.12/dist-packages (from jedi>=0.16->ipython>=4.0.0->ipywidgets>=7.7.1->bigframes) (0.8.5)\n",
            "Requirement already satisfied: entrypoints in /usr/local/lib/python3.12/dist-packages (from jupyter-client>=6.1.12->ipykernel>=4.5.1->ipywidgets>=7.7.1->bigframes) (0.4)\n",
            "Requirement already satisfied: jupyter-core>=4.9.2 in /usr/local/lib/python3.12/dist-packages (from jupyter-client>=6.1.12->ipykernel>=4.5.1->ipywidgets>=7.7.1->bigframes) (5.8.1)\n",
            "Requirement already satisfied: jinja2 in /usr/local/lib/python3.12/dist-packages (from notebook>=4.4.1->widgetsnbextension~=3.6.0->ipywidgets>=7.7.1->bigframes) (3.1.6)\n",
            "Requirement already satisfied: argon2-cffi in /usr/local/lib/python3.12/dist-packages (from notebook>=4.4.1->widgetsnbextension~=3.6.0->ipywidgets>=7.7.1->bigframes) (25.1.0)\n",
            "Requirement already satisfied: nbformat in /usr/local/lib/python3.12/dist-packages (from notebook>=4.4.1->widgetsnbextension~=3.6.0->ipywidgets>=7.7.1->bigframes) (5.10.4)\n",
            "Requirement already satisfied: nbconvert>=5 in /usr/local/lib/python3.12/dist-packages (from notebook>=4.4.1->widgetsnbextension~=3.6.0->ipywidgets>=7.7.1->bigframes) (7.16.6)\n",
            "Requirement already satisfied: Send2Trash>=1.8.0 in /usr/local/lib/python3.12/dist-packages (from notebook>=4.4.1->widgetsnbextension~=3.6.0->ipywidgets>=7.7.1->bigframes) (1.8.3)\n",
            "Requirement already satisfied: terminado>=0.8.3 in /usr/local/lib/python3.12/dist-packages (from notebook>=4.4.1->widgetsnbextension~=3.6.0->ipywidgets>=7.7.1->bigframes) (0.18.1)\n",
            "Requirement already satisfied: prometheus-client in /usr/local/lib/python3.12/dist-packages (from notebook>=4.4.1->widgetsnbextension~=3.6.0->ipywidgets>=7.7.1->bigframes) (0.22.1)\n",
            "Requirement already satisfied: nbclassic>=0.4.7 in /usr/local/lib/python3.12/dist-packages (from notebook>=4.4.1->widgetsnbextension~=3.6.0->ipywidgets>=7.7.1->bigframes) (1.3.2)\n",
            "Requirement already satisfied: ptyprocess>=0.5 in /usr/local/lib/python3.12/dist-packages (from pexpect>4.3->ipython>=4.0.0->ipywidgets>=7.7.1->bigframes) (0.7.0)\n",
            "Requirement already satisfied: wcwidth in /usr/local/lib/python3.12/dist-packages (from prompt-toolkit!=3.0.0,!=3.0.1,<3.1.0,>=2.0.0->ipython>=4.0.0->ipywidgets>=7.7.1->bigframes) (0.2.13)\n",
            "Requirement already satisfied: oauthlib>=3.0.0 in /usr/local/lib/python3.12/dist-packages (from requests-oauthlib>=0.7.0->google-auth-oauthlib->gcsfs!=2025.5.0,>=2023.3.0->bigframes) (3.3.1)\n",
            "Requirement already satisfied: platformdirs>=2.5 in /usr/local/lib/python3.12/dist-packages (from jupyter-core>=4.9.2->jupyter-client>=6.1.12->ipykernel>=4.5.1->ipywidgets>=7.7.1->bigframes) (4.4.0)\n",
            "Requirement already satisfied: notebook-shim>=0.2.3 in /usr/local/lib/python3.12/dist-packages (from nbclassic>=0.4.7->notebook>=4.4.1->widgetsnbextension~=3.6.0->ipywidgets>=7.7.1->bigframes) (0.2.4)\n",
            "Requirement already satisfied: beautifulsoup4 in /usr/local/lib/python3.12/dist-packages (from nbconvert>=5->notebook>=4.4.1->widgetsnbextension~=3.6.0->ipywidgets>=7.7.1->bigframes) (4.13.5)\n",
            "Requirement already satisfied: bleach!=5.0.0 in /usr/local/lib/python3.12/dist-packages (from bleach[css]!=5.0.0->nbconvert>=5->notebook>=4.4.1->widgetsnbextension~=3.6.0->ipywidgets>=7.7.1->bigframes) (6.2.0)\n",
            "Requirement already satisfied: defusedxml in /usr/local/lib/python3.12/dist-packages (from nbconvert>=5->notebook>=4.4.1->widgetsnbextension~=3.6.0->ipywidgets>=7.7.1->bigframes) (0.7.1)\n",
            "Requirement already satisfied: jupyterlab-pygments in /usr/local/lib/python3.12/dist-packages (from nbconvert>=5->notebook>=4.4.1->widgetsnbextension~=3.6.0->ipywidgets>=7.7.1->bigframes) (0.3.0)\n",
            "Requirement already satisfied: markupsafe>=2.0 in /usr/local/lib/python3.12/dist-packages (from nbconvert>=5->notebook>=4.4.1->widgetsnbextension~=3.6.0->ipywidgets>=7.7.1->bigframes) (3.0.2)\n",
            "Requirement already satisfied: mistune<4,>=2.0.3 in /usr/local/lib/python3.12/dist-packages (from nbconvert>=5->notebook>=4.4.1->widgetsnbextension~=3.6.0->ipywidgets>=7.7.1->bigframes) (3.1.4)\n",
            "Requirement already satisfied: nbclient>=0.5.0 in /usr/local/lib/python3.12/dist-packages (from nbconvert>=5->notebook>=4.4.1->widgetsnbextension~=3.6.0->ipywidgets>=7.7.1->bigframes) (0.10.2)\n",
            "Requirement already satisfied: pandocfilters>=1.4.1 in /usr/local/lib/python3.12/dist-packages (from nbconvert>=5->notebook>=4.4.1->widgetsnbextension~=3.6.0->ipywidgets>=7.7.1->bigframes) (1.5.1)\n",
            "Requirement already satisfied: fastjsonschema>=2.15 in /usr/local/lib/python3.12/dist-packages (from nbformat->notebook>=4.4.1->widgetsnbextension~=3.6.0->ipywidgets>=7.7.1->bigframes) (2.21.2)\n",
            "Requirement already satisfied: jsonschema>=2.6 in /usr/local/lib/python3.12/dist-packages (from nbformat->notebook>=4.4.1->widgetsnbextension~=3.6.0->ipywidgets>=7.7.1->bigframes) (4.25.1)\n",
            "Requirement already satisfied: argon2-cffi-bindings in /usr/local/lib/python3.12/dist-packages (from argon2-cffi->notebook>=4.4.1->widgetsnbextension~=3.6.0->ipywidgets>=7.7.1->bigframes) (25.1.0)\n",
            "Requirement already satisfied: webencodings in /usr/local/lib/python3.12/dist-packages (from bleach!=5.0.0->bleach[css]!=5.0.0->nbconvert>=5->notebook>=4.4.1->widgetsnbextension~=3.6.0->ipywidgets>=7.7.1->bigframes) (0.5.1)\n",
            "Requirement already satisfied: tinycss2<1.5,>=1.1.0 in /usr/local/lib/python3.12/dist-packages (from bleach[css]!=5.0.0->nbconvert>=5->notebook>=4.4.1->widgetsnbextension~=3.6.0->ipywidgets>=7.7.1->bigframes) (1.4.0)\n",
            "Requirement already satisfied: jsonschema-specifications>=2023.03.6 in /usr/local/lib/python3.12/dist-packages (from jsonschema>=2.6->nbformat->notebook>=4.4.1->widgetsnbextension~=3.6.0->ipywidgets>=7.7.1->bigframes) (2025.9.1)\n",
            "Requirement already satisfied: referencing>=0.28.4 in /usr/local/lib/python3.12/dist-packages (from jsonschema>=2.6->nbformat->notebook>=4.4.1->widgetsnbextension~=3.6.0->ipywidgets>=7.7.1->bigframes) (0.36.2)\n",
            "Requirement already satisfied: rpds-py>=0.7.1 in /usr/local/lib/python3.12/dist-packages (from jsonschema>=2.6->nbformat->notebook>=4.4.1->widgetsnbextension~=3.6.0->ipywidgets>=7.7.1->bigframes) (0.27.1)\n",
            "Requirement already satisfied: jupyter-server<3,>=1.8 in /usr/local/lib/python3.12/dist-packages (from notebook-shim>=0.2.3->nbclassic>=0.4.7->notebook>=4.4.1->widgetsnbextension~=3.6.0->ipywidgets>=7.7.1->bigframes) (2.14.0)\n",
            "Requirement already satisfied: cffi>=1.0.1 in /usr/local/lib/python3.12/dist-packages (from argon2-cffi-bindings->argon2-cffi->notebook>=4.4.1->widgetsnbextension~=3.6.0->ipywidgets>=7.7.1->bigframes) (2.0.0)\n",
            "Requirement already satisfied: soupsieve>1.2 in /usr/local/lib/python3.12/dist-packages (from beautifulsoup4->nbconvert>=5->notebook>=4.4.1->widgetsnbextension~=3.6.0->ipywidgets>=7.7.1->bigframes) (2.8)\n",
            "Requirement already satisfied: pycparser in /usr/local/lib/python3.12/dist-packages (from cffi>=1.0.1->argon2-cffi-bindings->argon2-cffi->notebook>=4.4.1->widgetsnbextension~=3.6.0->ipywidgets>=7.7.1->bigframes) (2.23)\n",
            "Requirement already satisfied: anyio>=3.1.0 in /usr/local/lib/python3.12/dist-packages (from jupyter-server<3,>=1.8->notebook-shim>=0.2.3->nbclassic>=0.4.7->notebook>=4.4.1->widgetsnbextension~=3.6.0->ipywidgets>=7.7.1->bigframes) (4.10.0)\n",
            "Requirement already satisfied: jupyter-events>=0.9.0 in /usr/local/lib/python3.12/dist-packages (from jupyter-server<3,>=1.8->notebook-shim>=0.2.3->nbclassic>=0.4.7->notebook>=4.4.1->widgetsnbextension~=3.6.0->ipywidgets>=7.7.1->bigframes) (0.12.0)\n",
            "Requirement already satisfied: jupyter-server-terminals>=0.4.4 in /usr/local/lib/python3.12/dist-packages (from jupyter-server<3,>=1.8->notebook-shim>=0.2.3->nbclassic>=0.4.7->notebook>=4.4.1->widgetsnbextension~=3.6.0->ipywidgets>=7.7.1->bigframes) (0.5.3)\n",
            "Requirement already satisfied: overrides>=5.0 in /usr/local/lib/python3.12/dist-packages (from jupyter-server<3,>=1.8->notebook-shim>=0.2.3->nbclassic>=0.4.7->notebook>=4.4.1->widgetsnbextension~=3.6.0->ipywidgets>=7.7.1->bigframes) (7.7.0)\n",
            "Requirement already satisfied: websocket-client>=1.7 in /usr/local/lib/python3.12/dist-packages (from jupyter-server<3,>=1.8->notebook-shim>=0.2.3->nbclassic>=0.4.7->notebook>=4.4.1->widgetsnbextension~=3.6.0->ipywidgets>=7.7.1->bigframes) (1.8.0)\n",
            "Requirement already satisfied: sniffio>=1.1 in /usr/local/lib/python3.12/dist-packages (from anyio>=3.1.0->jupyter-server<3,>=1.8->notebook-shim>=0.2.3->nbclassic>=0.4.7->notebook>=4.4.1->widgetsnbextension~=3.6.0->ipywidgets>=7.7.1->bigframes) (1.3.1)\n",
            "Requirement already satisfied: python-json-logger>=2.0.4 in /usr/local/lib/python3.12/dist-packages (from jupyter-events>=0.9.0->jupyter-server<3,>=1.8->notebook-shim>=0.2.3->nbclassic>=0.4.7->notebook>=4.4.1->widgetsnbextension~=3.6.0->ipywidgets>=7.7.1->bigframes) (3.3.0)\n",
            "Requirement already satisfied: pyyaml>=5.3 in /usr/local/lib/python3.12/dist-packages (from jupyter-events>=0.9.0->jupyter-server<3,>=1.8->notebook-shim>=0.2.3->nbclassic>=0.4.7->notebook>=4.4.1->widgetsnbextension~=3.6.0->ipywidgets>=7.7.1->bigframes) (6.0.2)\n",
            "Requirement already satisfied: rfc3339-validator in /usr/local/lib/python3.12/dist-packages (from jupyter-events>=0.9.0->jupyter-server<3,>=1.8->notebook-shim>=0.2.3->nbclassic>=0.4.7->notebook>=4.4.1->widgetsnbextension~=3.6.0->ipywidgets>=7.7.1->bigframes) (0.1.4)\n",
            "Requirement already satisfied: rfc3986-validator>=0.1.1 in /usr/local/lib/python3.12/dist-packages (from jupyter-events>=0.9.0->jupyter-server<3,>=1.8->notebook-shim>=0.2.3->nbclassic>=0.4.7->notebook>=4.4.1->widgetsnbextension~=3.6.0->ipywidgets>=7.7.1->bigframes) (0.1.1)\n",
            "Requirement already satisfied: fqdn in /usr/local/lib/python3.12/dist-packages (from jsonschema[format-nongpl]>=4.18.0->jupyter-events>=0.9.0->jupyter-server<3,>=1.8->notebook-shim>=0.2.3->nbclassic>=0.4.7->notebook>=4.4.1->widgetsnbextension~=3.6.0->ipywidgets>=7.7.1->bigframes) (1.5.1)\n",
            "Requirement already satisfied: isoduration in /usr/local/lib/python3.12/dist-packages (from jsonschema[format-nongpl]>=4.18.0->jupyter-events>=0.9.0->jupyter-server<3,>=1.8->notebook-shim>=0.2.3->nbclassic>=0.4.7->notebook>=4.4.1->widgetsnbextension~=3.6.0->ipywidgets>=7.7.1->bigframes) (20.11.0)\n",
            "Requirement already satisfied: jsonpointer>1.13 in /usr/local/lib/python3.12/dist-packages (from jsonschema[format-nongpl]>=4.18.0->jupyter-events>=0.9.0->jupyter-server<3,>=1.8->notebook-shim>=0.2.3->nbclassic>=0.4.7->notebook>=4.4.1->widgetsnbextension~=3.6.0->ipywidgets>=7.7.1->bigframes) (3.0.0)\n",
            "Requirement already satisfied: rfc3987-syntax>=1.1.0 in /usr/local/lib/python3.12/dist-packages (from jsonschema[format-nongpl]>=4.18.0->jupyter-events>=0.9.0->jupyter-server<3,>=1.8->notebook-shim>=0.2.3->nbclassic>=0.4.7->notebook>=4.4.1->widgetsnbextension~=3.6.0->ipywidgets>=7.7.1->bigframes) (1.1.0)\n",
            "Requirement already satisfied: uri-template in /usr/local/lib/python3.12/dist-packages (from jsonschema[format-nongpl]>=4.18.0->jupyter-events>=0.9.0->jupyter-server<3,>=1.8->notebook-shim>=0.2.3->nbclassic>=0.4.7->notebook>=4.4.1->widgetsnbextension~=3.6.0->ipywidgets>=7.7.1->bigframes) (1.3.0)\n",
            "Requirement already satisfied: webcolors>=24.6.0 in /usr/local/lib/python3.12/dist-packages (from jsonschema[format-nongpl]>=4.18.0->jupyter-events>=0.9.0->jupyter-server<3,>=1.8->notebook-shim>=0.2.3->nbclassic>=0.4.7->notebook>=4.4.1->widgetsnbextension~=3.6.0->ipywidgets>=7.7.1->bigframes) (24.11.1)\n",
            "Requirement already satisfied: lark>=1.2.2 in /usr/local/lib/python3.12/dist-packages (from rfc3987-syntax>=1.1.0->jsonschema[format-nongpl]>=4.18.0->jupyter-events>=0.9.0->jupyter-server<3,>=1.8->notebook-shim>=0.2.3->nbclassic>=0.4.7->notebook>=4.4.1->widgetsnbextension~=3.6.0->ipywidgets>=7.7.1->bigframes) (1.2.2)\n",
            "Requirement already satisfied: arrow>=0.15.0 in /usr/local/lib/python3.12/dist-packages (from isoduration->jsonschema[format-nongpl]>=4.18.0->jupyter-events>=0.9.0->jupyter-server<3,>=1.8->notebook-shim>=0.2.3->nbclassic>=0.4.7->notebook>=4.4.1->widgetsnbextension~=3.6.0->ipywidgets>=7.7.1->bigframes) (1.3.0)\n",
            "Requirement already satisfied: types-python-dateutil>=2.8.10 in /usr/local/lib/python3.12/dist-packages (from arrow>=0.15.0->isoduration->jsonschema[format-nongpl]>=4.18.0->jupyter-events>=0.9.0->jupyter-server<3,>=1.8->notebook-shim>=0.2.3->nbclassic>=0.4.7->notebook>=4.4.1->widgetsnbextension~=3.6.0->ipywidgets>=7.7.1->bigframes) (2.9.0.20250822)\n",
            "Downloading jedi-0.19.2-py2.py3-none-any.whl (1.6 MB)\n",
            "\u001b[2K   \u001b[90m━━━━━━━━━━━━━━━━━━━━━━━━━━━━━━━━━━━━━━━━\u001b[0m \u001b[32m1.6/1.6 MB\u001b[0m \u001b[31m16.1 MB/s\u001b[0m eta \u001b[36m0:00:00\u001b[0m\n",
            "\u001b[?25hInstalling collected packages: jedi\n",
            "Successfully installed jedi-0.19.2\n",
            "✅ Colab authentication completed\n"
          ]
        }
      ],
      "source": [
        "# Install required packages\n",
        "!pip install bigframes pandas google-cloud-bigquery\n",
        "\n",
        "# If running in Colab, authenticate\n",
        "try:\n",
        "    from google.colab import auth\n",
        "    auth.authenticate_user()\n",
        "    print(\"✅ Colab authentication completed\")\n",
        "except ImportError:\n",
        "    print(\"✅ Running outside Colab - using local credentials\")\n"
      ]
    },
    {
      "cell_type": "markdown",
      "metadata": {
        "id": "fYL-MFpFswGY"
      },
      "source": [
        "## ⚙️ Step 2: Configuration and Setup\n"
      ]
    },
    {
      "cell_type": "code",
      "execution_count": null,
      "metadata": {
        "colab": {
          "base_uri": "https://localhost:8080/"
        },
        "id": "EmSLZBM4swGY",
        "outputId": "08247ef8-17ca-42c9-9011-7d01b62c8b1b"
      },
      "outputs": [
        {
          "output_type": "stream",
          "name": "stdout",
          "text": [
            "🎯 Project: thinking-bonbon-471314-i4\n",
            "📊 Dataset: patients_vector_search_demo\n",
            "🗃️ Table: patients_with_embeddings\n",
            "🔍 Embedding Table: thinking-bonbon-471314-i4.patients_vector_search_demo.patients_with_embeddings_embeddings\n",
            "✅ BigFrames configured successfully!\n"
          ]
        }
      ],
      "source": [
        "import os\n",
        "import pandas as pd\n",
        "import bigframes.pandas as bpd\n",
        "import bigframes\n",
        "import bigframes.bigquery as bbq\n",
        "from google.cloud import bigquery\n",
        "from bigframes.ml.llm import TextEmbeddingGenerator, GeminiTextGenerator\n",
        "import time\n",
        "import warnings\n",
        "warnings.filterwarnings('ignore')\n",
        "\n",
        "# Configuration - UPDATE YOUR PROJECT ID HERE\n",
        "PROJECT_ID = \"thinking-bonbon-471314-i4\"  # 🔄 CHANGE THIS TO YOUR PROJECT ID\n",
        "LOCATION = \"US\"\n",
        "DATASET_NAME = \"patients_vector_search_demo\"\n",
        "TABLE_NAME = \"patients_with_embeddings\"\n",
        "FULL_TABLE_ID = f\"{PROJECT_ID}.{DATASET_NAME}.{TABLE_NAME}\"\n",
        "EMBEDDING_TABLE_ID = f\"{PROJECT_ID}.{DATASET_NAME}.{TABLE_NAME}_embeddings\"\n",
        "\n",
        "# Configure BigFrames\n",
        "bigframes.options.bigquery.project = PROJECT_ID\n",
        "bigframes.options.bigquery.location = LOCATION\n",
        "\n",
        "print(f\"🎯 Project: {PROJECT_ID}\")\n",
        "print(f\"📊 Dataset: {DATASET_NAME}\")\n",
        "print(f\"🗃️ Table: {TABLE_NAME}\")\n",
        "print(f\"🔍 Embedding Table: {EMBEDDING_TABLE_ID}\")\n",
        "print(f\"✅ BigFrames configured successfully!\")\n"
      ]
    },
    {
      "cell_type": "markdown",
      "metadata": {
        "id": "N76yPDqQswGY"
      },
      "source": [
        "## 📁 Step 3: Load Your Patient Data\n",
        "\n",
        "Upload your `synthetic_500_patients.csv` file when prompted below.\n"
      ]
    },
    {
      "cell_type": "code",
      "execution_count": null,
      "metadata": {
        "colab": {
          "base_uri": "https://localhost:8080/"
        },
        "id": "3bE0Gnf-u7PP",
        "outputId": "6149364a-1b53-46f5-b884-a2eac4ed0207"
      },
      "outputs": [
        {
          "output_type": "stream",
          "name": "stdout",
          "text": [
            "Requirement already satisfied: kagglehub[pandas-datasets] in /usr/local/lib/python3.12/dist-packages (0.3.13)\n",
            "Requirement already satisfied: packaging in /usr/local/lib/python3.12/dist-packages (from kagglehub[pandas-datasets]) (25.0)\n",
            "Requirement already satisfied: pyyaml in /usr/local/lib/python3.12/dist-packages (from kagglehub[pandas-datasets]) (6.0.2)\n",
            "Requirement already satisfied: requests in /usr/local/lib/python3.12/dist-packages (from kagglehub[pandas-datasets]) (2.32.4)\n",
            "Requirement already satisfied: tqdm in /usr/local/lib/python3.12/dist-packages (from kagglehub[pandas-datasets]) (4.67.1)\n",
            "Requirement already satisfied: pandas in /usr/local/lib/python3.12/dist-packages (from kagglehub[pandas-datasets]) (2.2.2)\n",
            "Requirement already satisfied: numpy>=1.26.0 in /usr/local/lib/python3.12/dist-packages (from pandas->kagglehub[pandas-datasets]) (2.0.2)\n",
            "Requirement already satisfied: python-dateutil>=2.8.2 in /usr/local/lib/python3.12/dist-packages (from pandas->kagglehub[pandas-datasets]) (2.9.0.post0)\n",
            "Requirement already satisfied: pytz>=2020.1 in /usr/local/lib/python3.12/dist-packages (from pandas->kagglehub[pandas-datasets]) (2025.2)\n",
            "Requirement already satisfied: tzdata>=2022.7 in /usr/local/lib/python3.12/dist-packages (from pandas->kagglehub[pandas-datasets]) (2025.2)\n",
            "Requirement already satisfied: charset_normalizer<4,>=2 in /usr/local/lib/python3.12/dist-packages (from requests->kagglehub[pandas-datasets]) (3.4.3)\n",
            "Requirement already satisfied: idna<4,>=2.5 in /usr/local/lib/python3.12/dist-packages (from requests->kagglehub[pandas-datasets]) (3.10)\n",
            "Requirement already satisfied: urllib3<3,>=1.21.1 in /usr/local/lib/python3.12/dist-packages (from requests->kagglehub[pandas-datasets]) (2.5.0)\n",
            "Requirement already satisfied: certifi>=2017.4.17 in /usr/local/lib/python3.12/dist-packages (from requests->kagglehub[pandas-datasets]) (2025.8.3)\n",
            "Requirement already satisfied: six>=1.5 in /usr/local/lib/python3.12/dist-packages (from python-dateutil>=2.8.2->pandas->kagglehub[pandas-datasets]) (1.17.0)\n"
          ]
        }
      ],
      "source": [
        "! pip install kagglehub[pandas-datasets]"
      ]
    },
    {
      "cell_type": "code",
      "execution_count": null,
      "metadata": {
        "colab": {
          "base_uri": "https://localhost:8080/"
        },
        "id": "FordNE3Ju3hl",
        "outputId": "56e00971-848f-4a79-d8a0-a52e5e2b9e5f"
      },
      "outputs": [
        {
          "output_type": "stream",
          "name": "stdout",
          "text": [
            "Using Colab cache for faster access to the 'patient-file-database' dataset.\n",
            "✅ Successfully loaded from Kaggle Hub\n",
            "\n",
            "📊 Dataset Shape: (500, 8)\n",
            "📋 Columns: ['PID', 'FirstName', 'LastName', 'Age', 'Address', 'FirstVisit', 'Gender', 'Prescriptions']\n",
            "\n",
            "🔍 Data Types:\n",
            "PID               int64\n",
            "FirstName        object\n",
            "LastName         object\n",
            "Age               int64\n",
            "Address          object\n",
            "FirstVisit       object\n",
            "Gender           object\n",
            "Prescriptions    object\n",
            "dtype: object \n",
            "\n",
            "📊 Descriptive stats (numeric):\n",
            "     count     mean         std  min     25%    50%     75%    max\n",
            "PID  500.0  250.500  144.481833  1.0  125.75  250.5  375.25  500.0\n",
            "Age  500.0   47.088   21.252378  1.0   30.00   49.0   66.00   80.0 \n",
            "\n",
            "📊 Descriptive stats (text):\n",
            "              count unique                                                top  \\\n",
            "FirstName       500     50                                            Deepika   \n",
            "LastName        500     40                                                Rao   \n",
            "Address         500    500                          73, Hospital Road, Mumbai   \n",
            "FirstVisit      500    500                                  06/27/11 22:49:35   \n",
            "Gender          500      2                                                  F   \n",
            "Prescriptions   500    500  12/17/22 00:00:00 - T3, T4 TSH nad / tsh 2.5 /...   \n",
            "\n",
            "              freq  \n",
            "FirstName       17  \n",
            "LastName        24  \n",
            "Address          1  \n",
            "FirstVisit       1  \n",
            "Gender         262  \n",
            "Prescriptions    1   \n",
            "\n",
            "📝 First 5 rows:\n",
            "   PID FirstName  LastName  Age                    Address         FirstVisit  \\\n",
            "0    1    Shanti     Mehta   55   388, Temple Road, Kalyan  11/30/12 12:14:20   \n",
            "1    2     Mohan      Nair   80      90, Bus Stand, Rajkot  01/06/18 11:38:08   \n",
            "2    3     Meera  Aggarwal   34   602, Temple Road, Indore  12/04/13 19:48:23   \n",
            "3    4     Radha  Bhardwaj   58  472, Gandhi Nagar, Bhopal  11/11/09 18:54:23   \n",
            "4    5     Arjun  Aggarwal   71    534, School Lane, Vasai  09/14/21 17:03:25   \n",
            "\n",
            "  Gender                                      Prescriptions  \n",
            "0      M  11/14/16 00:00:00 - thy 30  lssl cp 6x 44     ...  \n",
            "1      M  02/11/17 00:00:00 - cold 150 |--| 06/05/24 00:...  \n",
            "2      F  09/11/14 00:00:00 - 2070+50=2120 |--| 01/06/25...  \n",
            "3      M  01/06/21 00:00:00 - 40 size apis 30 arn 30 mp+...  \n",
            "4      M  01/12/23 00:00:00 - 40 size sl sl aco+fp 30 4 ...  \n"
          ]
        }
      ],
      "source": [
        "import kagglehub\n",
        "from kagglehub import KaggleDatasetAdapter\n",
        "import pandas as pd\n",
        "\n",
        "# 🗂️ Path to the CSV file inside the dataset\n",
        "file_path = \"synthetic_500_patients.csv\"\n",
        "\n",
        "# 📥 Load the latest version of the dataset as a pandas DataFrame\n",
        "df = kagglehub.load_dataset(\n",
        "    KaggleDatasetAdapter.PANDAS,\n",
        "    \"yashwanthkrishna78/patient-file-database\",\n",
        "    file_path,\n",
        ")\n",
        "\n",
        "# ✅ Show confirmation and summary\n",
        "print(\"✅ Successfully loaded from Kaggle Hub\\n\")\n",
        "print(f\"📊 Dataset Shape: {df.shape}\")\n",
        "print(f\"📋 Columns: {list(df.columns)}\\n\")\n",
        "\n",
        "print(\"🔍 Data Types:\")\n",
        "print(df.dtypes, \"\\n\")\n",
        "\n",
        "\n",
        "print(\"📊 Descriptive stats (numeric):\")\n",
        "print(df.describe(include=['number']).T, \"\\n\")\n",
        "\n",
        "print(\"📊 Descriptive stats (text):\")\n",
        "print(df.describe(include=['object']).T, \"\\n\")\n",
        "\n",
        "print(\"📝 First 5 rows:\")\n",
        "print(df.head())\n"
      ]
    },
    {
      "cell_type": "markdown",
      "metadata": {
        "id": "RdXOodilswGZ"
      },
      "source": [
        "## 🧠 Step 4: Prepare Data and Generate Embeddings\n"
      ]
    },
    {
      "cell_type": "code",
      "execution_count": null,
      "metadata": {
        "colab": {
          "base_uri": "https://localhost:8080/",
          "height": 156
        },
        "id": "tjifNfseswGZ",
        "outputId": "caa5d7e2-54fc-47d7-c4ba-8b2b871cb47d"
      },
      "outputs": [
        {
          "output_type": "stream",
          "name": "stdout",
          "text": [
            "✅ Created patient descriptions\n",
            "\n",
            "📄 Sample description:\n",
            "Patient ID: 1 - Patient Shanti Mehta is a 55 year old m patient living at 388, Temple Road, Kalyan. Medical prescriptions: 11/14/16 00:00:00 - thy 30  lssl cp 6x 44     100 |--| 12/16/15 00:00:00 - pe...\n",
            "✅ Dataset patients_vector_search_demo exists\n"
          ]
        },
        {
          "output_type": "display_data",
          "data": {
            "text/plain": [
              "<IPython.core.display.HTML object>"
            ],
            "text/html": [
              "Load job 5323a69e-9691-4380-bc5e-316294bbb710 is DONE. <a target=\"_blank\" href=\"https://console.cloud.google.com/bigquery?project=thinking-bonbon-471314-i4&j=bq:US:5323a69e-9691-4380-bc5e-316294bbb710&page=queryresults\">Open Job</a>"
            ]
          },
          "metadata": {}
        },
        {
          "output_type": "display_data",
          "data": {
            "text/plain": [
              "<IPython.core.display.HTML object>"
            ],
            "text/html": [
              "Query job 2f0fa5c3-2911-4670-b513-69927568b3db is DONE. 1.0 MB processed. <a target=\"_blank\" href=\"https://console.cloud.google.com/bigquery?project=thinking-bonbon-471314-i4&j=bq:US:2f0fa5c3-2911-4670-b513-69927568b3db&page=queryresults\">Open Job</a>"
            ]
          },
          "metadata": {}
        },
        {
          "output_type": "stream",
          "name": "stdout",
          "text": [
            "✅ Uploaded data to thinking-bonbon-471314-i4.patients_vector_search_demo.patients_with_embeddings\n"
          ]
        }
      ],
      "source": [
        "# Create rich patient descriptions for better embeddings\n",
        "def create_patient_description(row):\n",
        "    return (f\"Patient ID: {row['PID']} - Patient {row['FirstName']} {row['LastName']} is a {row['Age']} year old \"\n",
        "            f\"{row['Gender'].lower()} patient living at {row['Address']}. \"\n",
        "            f\"Medical prescriptions: {row['Prescriptions']}. \"\n",
        "            f\"First visit: {row['FirstVisit']}\")\n",
        "\n",
        "df['patient_description'] = df.apply(create_patient_description, axis=1)\n",
        "\n",
        "print(f\"✅ Created patient descriptions\")\n",
        "print(f\"\\n📄 Sample description:\")\n",
        "print(df['patient_description'].iloc[0][:200] + \"...\")\n",
        "\n",
        "# Create BigQuery dataset and upload data\n",
        "client = bigquery.Client(project=PROJECT_ID)\n",
        "dataset_ref = bigquery.Dataset(f\"{PROJECT_ID}.{DATASET_NAME}\")\n",
        "\n",
        "try:\n",
        "    client.get_dataset(dataset_ref)\n",
        "    print(f\"✅ Dataset {DATASET_NAME} exists\")\n",
        "except Exception:\n",
        "    dataset_ref.location = LOCATION\n",
        "    client.create_dataset(dataset_ref, exists_ok=True)\n",
        "    print(f\"✅ Created dataset {DATASET_NAME}\")\n",
        "\n",
        "# Upload data to BigQuery\n",
        "bdf = bpd.DataFrame(df)\n",
        "bdf.to_gbq(FULL_TABLE_ID, if_exists=\"replace\")\n",
        "print(f\"✅ Uploaded data to {FULL_TABLE_ID}\")\n"
      ]
    },
    {
      "cell_type": "code",
      "execution_count": null,
      "metadata": {
        "colab": {
          "base_uri": "https://localhost:8080/",
          "height": 443
        },
        "id": "CJVoqhP3swGZ",
        "outputId": "35b7e369-ebaa-4196-d7f7-217ab270a29b"
      },
      "outputs": [
        {
          "output_type": "stream",
          "name": "stdout",
          "text": [
            "🧠 Generating embeddings for all patients...\n",
            "⏳ This may take a few minutes...\n"
          ]
        },
        {
          "output_type": "display_data",
          "data": {
            "text/plain": [
              "<IPython.core.display.HTML object>"
            ],
            "text/html": [
              "Query job 7aa4dbb4-96ad-4dc6-a53a-b20863c68226 is DONE. 0 Bytes processed. <a target=\"_blank\" href=\"https://console.cloud.google.com/bigquery?project=thinking-bonbon-471314-i4&j=bq:US:7aa4dbb4-96ad-4dc6-a53a-b20863c68226&page=queryresults\">Open Job</a>"
            ]
          },
          "metadata": {}
        },
        {
          "output_type": "display_data",
          "data": {
            "text/plain": [
              "<IPython.core.display.HTML object>"
            ],
            "text/html": [
              "Query job ed192861-3978-4720-967a-3c7915c454e0 is RUNNING. <a target=\"_blank\" href=\"https://console.cloud.google.com/bigquery?project=thinking-bonbon-471314-i4&j=bq:US:ed192861-3978-4720-967a-3c7915c454e0&page=queryresults\">Open Job</a>"
            ]
          },
          "metadata": {}
        },
        {
          "output_type": "stream",
          "name": "stdout",
          "text": [
            "Requested cancellation for Query job ed192861-3978-4720-967a-3c7915c454e0 in location US...\n"
          ]
        },
        {
          "output_type": "error",
          "ename": "KeyboardInterrupt",
          "evalue": "",
          "traceback": [
            "\u001b[0;31m---------------------------------------------------------------------------\u001b[0m",
            "\u001b[0;31mKeyboardInterrupt\u001b[0m                         Traceback (most recent call last)",
            "\u001b[0;32m/tmp/ipython-input-1892919796.py\u001b[0m in \u001b[0;36m<cell line: 0>\u001b[0;34m()\u001b[0m\n\u001b[1;32m     18\u001b[0m \u001b[0;34m\u001b[0m\u001b[0m\n\u001b[1;32m     19\u001b[0m \u001b[0;31m# Generate embeddings\u001b[0m\u001b[0;34m\u001b[0m\u001b[0;34m\u001b[0m\u001b[0m\n\u001b[0;32m---> 20\u001b[0;31m \u001b[0membedding\u001b[0m \u001b[0;34m=\u001b[0m \u001b[0mtext_model\u001b[0m\u001b[0;34m.\u001b[0m\u001b[0mpredict\u001b[0m\u001b[0;34m(\u001b[0m\u001b[0mdf_to_index\u001b[0m\u001b[0;34m)\u001b[0m\u001b[0;34m\u001b[0m\u001b[0;34m\u001b[0m\u001b[0m\n\u001b[0m\u001b[1;32m     21\u001b[0m \u001b[0;34m\u001b[0m\u001b[0m\n\u001b[1;32m     22\u001b[0m \u001b[0;31m# Check the status column to look for errors\u001b[0m\u001b[0;34m\u001b[0m\u001b[0;34m\u001b[0m\u001b[0m\n",
            "\u001b[0;32m/usr/local/lib/python3.12/dist-packages/bigframes/core/log_adapter.py\u001b[0m in \u001b[0;36mwrapper\u001b[0;34m(*args, **kwargs)\u001b[0m\n\u001b[1;32m    173\u001b[0m \u001b[0;34m\u001b[0m\u001b[0m\n\u001b[1;32m    174\u001b[0m         \u001b[0;32mtry\u001b[0m\u001b[0;34m:\u001b[0m\u001b[0;34m\u001b[0m\u001b[0;34m\u001b[0m\u001b[0m\n\u001b[0;32m--> 175\u001b[0;31m             \u001b[0;32mreturn\u001b[0m \u001b[0mmethod\u001b[0m\u001b[0;34m(\u001b[0m\u001b[0;34m*\u001b[0m\u001b[0margs\u001b[0m\u001b[0;34m,\u001b[0m \u001b[0;34m**\u001b[0m\u001b[0mkwargs\u001b[0m\u001b[0;34m)\u001b[0m\u001b[0;34m\u001b[0m\u001b[0;34m\u001b[0m\u001b[0m\n\u001b[0m\u001b[1;32m    176\u001b[0m         \u001b[0;32mexcept\u001b[0m \u001b[0;34m(\u001b[0m\u001b[0mNotImplementedError\u001b[0m\u001b[0;34m,\u001b[0m \u001b[0mTypeError\u001b[0m\u001b[0;34m)\u001b[0m \u001b[0;32mas\u001b[0m \u001b[0me\u001b[0m\u001b[0;34m:\u001b[0m\u001b[0;34m\u001b[0m\u001b[0;34m\u001b[0m\u001b[0m\n\u001b[1;32m    177\u001b[0m             \u001b[0;31m# Log method parameters that are implemented in pandas but either missing (TypeError)\u001b[0m\u001b[0;34m\u001b[0m\u001b[0;34m\u001b[0m\u001b[0m\n",
            "\u001b[0;32m/usr/local/lib/python3.12/dist-packages/bigframes/ml/llm.py\u001b[0m in \u001b[0;36mpredict\u001b[0;34m(self, X, max_retries)\u001b[0m\n\u001b[1;32m    247\u001b[0m         \u001b[0moptions\u001b[0m\u001b[0;34m:\u001b[0m \u001b[0mdict\u001b[0m \u001b[0;34m=\u001b[0m \u001b[0;34m{\u001b[0m\u001b[0;34m}\u001b[0m\u001b[0;34m\u001b[0m\u001b[0;34m\u001b[0m\u001b[0m\n\u001b[1;32m    248\u001b[0m \u001b[0;34m\u001b[0m\u001b[0m\n\u001b[0;32m--> 249\u001b[0;31m         return self._predict_and_retry(\n\u001b[0m\u001b[1;32m    250\u001b[0m             \u001b[0mcore\u001b[0m\u001b[0;34m.\u001b[0m\u001b[0mBqmlModel\u001b[0m\u001b[0;34m.\u001b[0m\u001b[0mgenerate_embedding_tvf\u001b[0m\u001b[0;34m,\u001b[0m\u001b[0;34m\u001b[0m\u001b[0;34m\u001b[0m\u001b[0m\n\u001b[1;32m    251\u001b[0m             \u001b[0mX\u001b[0m\u001b[0;34m,\u001b[0m\u001b[0;34m\u001b[0m\u001b[0;34m\u001b[0m\u001b[0m\n",
            "\u001b[0;32m/usr/local/lib/python3.12/dist-packages/bigframes/ml/base.py\u001b[0m in \u001b[0;36m_predict_and_retry\u001b[0;34m(self, bqml_model_predict_tvf, X, options, max_retries)\u001b[0m\n\u001b[1;32m    264\u001b[0m                 \u001b[0;32mbreak\u001b[0m\u001b[0;34m\u001b[0m\u001b[0;34m\u001b[0m\u001b[0m\n\u001b[1;32m    265\u001b[0m \u001b[0;34m\u001b[0m\u001b[0m\n\u001b[0;32m--> 266\u001b[0;31m             \u001b[0mdf\u001b[0m \u001b[0;34m=\u001b[0m \u001b[0mbqml_model_predict_tvf\u001b[0m\u001b[0;34m.\u001b[0m\u001b[0mtvf\u001b[0m\u001b[0;34m(\u001b[0m\u001b[0mself\u001b[0m\u001b[0;34m.\u001b[0m\u001b[0m_bqml_model\u001b[0m\u001b[0;34m,\u001b[0m \u001b[0mdf_fail\u001b[0m\u001b[0;34m,\u001b[0m \u001b[0moptions\u001b[0m\u001b[0;34m)\u001b[0m\u001b[0;34m\u001b[0m\u001b[0;34m\u001b[0m\u001b[0m\n\u001b[0m\u001b[1;32m    267\u001b[0m \u001b[0;34m\u001b[0m\u001b[0m\n\u001b[1;32m    268\u001b[0m             \u001b[0msuccess\u001b[0m \u001b[0;34m=\u001b[0m \u001b[0mdf\u001b[0m\u001b[0;34m[\u001b[0m\u001b[0mbqml_model_predict_tvf\u001b[0m\u001b[0;34m.\u001b[0m\u001b[0mstatus_col\u001b[0m\u001b[0;34m]\u001b[0m\u001b[0;34m.\u001b[0m\u001b[0mstr\u001b[0m\u001b[0;34m.\u001b[0m\u001b[0mlen\u001b[0m\u001b[0;34m(\u001b[0m\u001b[0;34m)\u001b[0m \u001b[0;34m==\u001b[0m \u001b[0;36m0\u001b[0m\u001b[0;34m\u001b[0m\u001b[0;34m\u001b[0m\u001b[0m\n",
            "\u001b[0;32m/usr/local/lib/python3.12/dist-packages/bigframes/ml/core.py\u001b[0m in \u001b[0;36mgenerate_embedding\u001b[0;34m(self, input_data, options)\u001b[0m\n\u001b[1;32m    210\u001b[0m     ) -> bpd.DataFrame:\n\u001b[1;32m    211\u001b[0m         \u001b[0moptions\u001b[0m\u001b[0;34m[\u001b[0m\u001b[0;34m\"flatten_json_output\"\u001b[0m\u001b[0;34m]\u001b[0m \u001b[0;34m=\u001b[0m \u001b[0;32mTrue\u001b[0m\u001b[0;34m\u001b[0m\u001b[0;34m\u001b[0m\u001b[0m\n\u001b[0;32m--> 212\u001b[0;31m         return self._apply_ml_tvf(\n\u001b[0m\u001b[1;32m    213\u001b[0m             \u001b[0minput_data\u001b[0m\u001b[0;34m,\u001b[0m\u001b[0;34m\u001b[0m\u001b[0;34m\u001b[0m\u001b[0m\n\u001b[1;32m    214\u001b[0m             lambda source_sql: self._sql_generator.ml_generate_embedding(\n",
            "\u001b[0;32m/usr/local/lib/python3.12/dist-packages/bigframes/ml/core.py\u001b[0m in \u001b[0;36m_apply_ml_tvf\u001b[0;34m(self, input_data, apply_sql_tvf)\u001b[0m\n\u001b[1;32m    100\u001b[0m \u001b[0;34m\u001b[0m\u001b[0m\n\u001b[1;32m    101\u001b[0m         \u001b[0mresult_sql\u001b[0m \u001b[0;34m=\u001b[0m \u001b[0mapply_sql_tvf\u001b[0m\u001b[0;34m(\u001b[0m\u001b[0minput_sql\u001b[0m\u001b[0;34m)\u001b[0m\u001b[0;34m\u001b[0m\u001b[0;34m\u001b[0m\u001b[0m\n\u001b[0;32m--> 102\u001b[0;31m         df = self._session.read_gbq_query(\n\u001b[0m\u001b[1;32m    103\u001b[0m             \u001b[0mresult_sql\u001b[0m\u001b[0;34m,\u001b[0m\u001b[0;34m\u001b[0m\u001b[0;34m\u001b[0m\u001b[0m\n\u001b[1;32m    104\u001b[0m             \u001b[0mindex_col\u001b[0m\u001b[0;34m=\u001b[0m\u001b[0mindex_col_ids\u001b[0m\u001b[0;34m,\u001b[0m\u001b[0;34m\u001b[0m\u001b[0;34m\u001b[0m\u001b[0m\n",
            "\u001b[0;32m/usr/local/lib/python3.12/dist-packages/bigframes/core/log_adapter.py\u001b[0m in \u001b[0;36mwrapper\u001b[0;34m(*args, **kwargs)\u001b[0m\n\u001b[1;32m    173\u001b[0m \u001b[0;34m\u001b[0m\u001b[0m\n\u001b[1;32m    174\u001b[0m         \u001b[0;32mtry\u001b[0m\u001b[0;34m:\u001b[0m\u001b[0;34m\u001b[0m\u001b[0;34m\u001b[0m\u001b[0m\n\u001b[0;32m--> 175\u001b[0;31m             \u001b[0;32mreturn\u001b[0m \u001b[0mmethod\u001b[0m\u001b[0;34m(\u001b[0m\u001b[0;34m*\u001b[0m\u001b[0margs\u001b[0m\u001b[0;34m,\u001b[0m \u001b[0;34m**\u001b[0m\u001b[0mkwargs\u001b[0m\u001b[0;34m)\u001b[0m\u001b[0;34m\u001b[0m\u001b[0;34m\u001b[0m\u001b[0m\n\u001b[0m\u001b[1;32m    176\u001b[0m         \u001b[0;32mexcept\u001b[0m \u001b[0;34m(\u001b[0m\u001b[0mNotImplementedError\u001b[0m\u001b[0;34m,\u001b[0m \u001b[0mTypeError\u001b[0m\u001b[0;34m)\u001b[0m \u001b[0;32mas\u001b[0m \u001b[0me\u001b[0m\u001b[0;34m:\u001b[0m\u001b[0;34m\u001b[0m\u001b[0;34m\u001b[0m\u001b[0m\n\u001b[1;32m    177\u001b[0m             \u001b[0;31m# Log method parameters that are implemented in pandas but either missing (TypeError)\u001b[0m\u001b[0;34m\u001b[0m\u001b[0;34m\u001b[0m\u001b[0m\n",
            "\u001b[0;32m/usr/local/lib/python3.12/dist-packages/bigframes/session/__init__.py\u001b[0m in \u001b[0;36mread_gbq_query\u001b[0;34m(self, query, index_col, columns, configuration, max_results, use_cache, col_order, filters, dry_run, allow_large_results)\u001b[0m\n\u001b[1;32m    696\u001b[0m             \u001b[0mallow_large_results\u001b[0m \u001b[0;34m=\u001b[0m \u001b[0mbigframes\u001b[0m\u001b[0;34m.\u001b[0m\u001b[0m_config\u001b[0m\u001b[0;34m.\u001b[0m\u001b[0moptions\u001b[0m\u001b[0;34m.\u001b[0m\u001b[0m_allow_large_results\u001b[0m\u001b[0;34m\u001b[0m\u001b[0;34m\u001b[0m\u001b[0m\n\u001b[1;32m    697\u001b[0m \u001b[0;34m\u001b[0m\u001b[0m\n\u001b[0;32m--> 698\u001b[0;31m         return self._loader.read_gbq_query(  # type: ignore # for dry_run overload\n\u001b[0m\u001b[1;32m    699\u001b[0m             \u001b[0mquery\u001b[0m\u001b[0;34m=\u001b[0m\u001b[0mquery\u001b[0m\u001b[0;34m,\u001b[0m\u001b[0;34m\u001b[0m\u001b[0;34m\u001b[0m\u001b[0m\n\u001b[1;32m    700\u001b[0m             \u001b[0mindex_col\u001b[0m\u001b[0;34m=\u001b[0m\u001b[0mindex_col\u001b[0m\u001b[0;34m,\u001b[0m\u001b[0;34m\u001b[0m\u001b[0;34m\u001b[0m\u001b[0m\n",
            "\u001b[0;32m/usr/local/lib/python3.12/dist-packages/bigframes/session/loader.py\u001b[0m in \u001b[0;36mread_gbq_query\u001b[0;34m(self, query, index_col, columns, configuration, max_results, use_cache, filters, dry_run, force_total_order, allow_large_results)\u001b[0m\n\u001b[1;32m    997\u001b[0m         \u001b[0;31m# configuration, should we respect that setting?\u001b[0m\u001b[0;34m\u001b[0m\u001b[0;34m\u001b[0m\u001b[0m\n\u001b[1;32m    998\u001b[0m         \u001b[0;32mif\u001b[0m \u001b[0mallow_large_results\u001b[0m\u001b[0;34m:\u001b[0m\u001b[0;34m\u001b[0m\u001b[0;34m\u001b[0m\u001b[0m\n\u001b[0;32m--> 999\u001b[0;31m             destination, query_job = self._query_to_destination(\n\u001b[0m\u001b[1;32m   1000\u001b[0m                 \u001b[0mquery\u001b[0m\u001b[0;34m,\u001b[0m\u001b[0;34m\u001b[0m\u001b[0;34m\u001b[0m\u001b[0m\n\u001b[1;32m   1001\u001b[0m                 \u001b[0;31m# No cluster candidates as user query might not be clusterable\u001b[0m\u001b[0;34m\u001b[0m\u001b[0;34m\u001b[0m\u001b[0m\n",
            "\u001b[0;32m/usr/local/lib/python3.12/dist-packages/bigframes/session/loader.py\u001b[0m in \u001b[0;36m_query_to_destination\u001b[0;34m(self, query, cluster_candidates, configuration, do_clustering)\u001b[0m\n\u001b[1;32m   1130\u001b[0m             \u001b[0;31m# limit. See: internal issue 303057336.\u001b[0m\u001b[0;34m\u001b[0m\u001b[0;34m\u001b[0m\u001b[0m\n\u001b[1;32m   1131\u001b[0m             \u001b[0mjob_config\u001b[0m\u001b[0;34m.\u001b[0m\u001b[0mlabels\u001b[0m\u001b[0;34m[\u001b[0m\u001b[0;34m\"error_caught\"\u001b[0m\u001b[0;34m]\u001b[0m \u001b[0;34m=\u001b[0m \u001b[0;34m\"true\"\u001b[0m\u001b[0;34m\u001b[0m\u001b[0;34m\u001b[0m\u001b[0m\n\u001b[0;32m-> 1132\u001b[0;31m             query_job = self._start_query_with_job(\n\u001b[0m\u001b[1;32m   1133\u001b[0m                 \u001b[0mquery\u001b[0m\u001b[0;34m,\u001b[0m\u001b[0;34m\u001b[0m\u001b[0;34m\u001b[0m\u001b[0m\n\u001b[1;32m   1134\u001b[0m                 \u001b[0mjob_config\u001b[0m\u001b[0;34m=\u001b[0m\u001b[0mjob_config\u001b[0m\u001b[0;34m,\u001b[0m\u001b[0;34m\u001b[0m\u001b[0;34m\u001b[0m\u001b[0m\n",
            "\u001b[0;32m/usr/local/lib/python3.12/dist-packages/bigframes/session/loader.py\u001b[0m in \u001b[0;36m_start_query_with_job\u001b[0;34m(self, sql, job_config, timeout)\u001b[0m\n\u001b[1;32m   1196\u001b[0m         \"\"\"\n\u001b[1;32m   1197\u001b[0m         \u001b[0mjob_config\u001b[0m \u001b[0;34m=\u001b[0m \u001b[0mself\u001b[0m\u001b[0;34m.\u001b[0m\u001b[0m_prepare_job_config\u001b[0m\u001b[0;34m(\u001b[0m\u001b[0mjob_config\u001b[0m\u001b[0;34m)\u001b[0m\u001b[0;34m\u001b[0m\u001b[0;34m\u001b[0m\u001b[0m\n\u001b[0;32m-> 1198\u001b[0;31m         _, query_job = bf_io_bigquery.start_query_with_client(\n\u001b[0m\u001b[1;32m   1199\u001b[0m             \u001b[0mself\u001b[0m\u001b[0;34m.\u001b[0m\u001b[0m_bqclient\u001b[0m\u001b[0;34m,\u001b[0m\u001b[0;34m\u001b[0m\u001b[0;34m\u001b[0m\u001b[0m\n\u001b[1;32m   1200\u001b[0m             \u001b[0msql\u001b[0m\u001b[0;34m,\u001b[0m\u001b[0;34m\u001b[0m\u001b[0;34m\u001b[0m\u001b[0m\n",
            "\u001b[0;32m/usr/local/lib/python3.12/dist-packages/bigframes/session/_io/bigquery/__init__.py\u001b[0m in \u001b[0;36mstart_query_with_client\u001b[0;34m(bq_client, sql, job_config, location, project, timeout, metrics, query_with_job, job_retry)\u001b[0m\n\u001b[1;32m    353\u001b[0m     \u001b[0mopts\u001b[0m \u001b[0;34m=\u001b[0m \u001b[0mbigframes\u001b[0m\u001b[0;34m.\u001b[0m\u001b[0moptions\u001b[0m\u001b[0;34m.\u001b[0m\u001b[0mdisplay\u001b[0m\u001b[0;34m\u001b[0m\u001b[0;34m\u001b[0m\u001b[0m\n\u001b[1;32m    354\u001b[0m     \u001b[0;32mif\u001b[0m \u001b[0mopts\u001b[0m\u001b[0;34m.\u001b[0m\u001b[0mprogress_bar\u001b[0m \u001b[0;32mis\u001b[0m \u001b[0;32mnot\u001b[0m \u001b[0;32mNone\u001b[0m \u001b[0;32mand\u001b[0m \u001b[0;32mnot\u001b[0m \u001b[0mquery_job\u001b[0m\u001b[0;34m.\u001b[0m\u001b[0mconfiguration\u001b[0m\u001b[0;34m.\u001b[0m\u001b[0mdry_run\u001b[0m\u001b[0;34m:\u001b[0m\u001b[0;34m\u001b[0m\u001b[0;34m\u001b[0m\u001b[0m\n\u001b[0;32m--> 355\u001b[0;31m         results_iterator = formatting_helpers.wait_for_query_job(\n\u001b[0m\u001b[1;32m    356\u001b[0m             \u001b[0mquery_job\u001b[0m\u001b[0;34m,\u001b[0m\u001b[0;34m\u001b[0m\u001b[0;34m\u001b[0m\u001b[0m\n\u001b[1;32m    357\u001b[0m             \u001b[0mprogress_bar\u001b[0m\u001b[0;34m=\u001b[0m\u001b[0mopts\u001b[0m\u001b[0;34m.\u001b[0m\u001b[0mprogress_bar\u001b[0m\u001b[0;34m,\u001b[0m\u001b[0;34m\u001b[0m\u001b[0;34m\u001b[0m\u001b[0m\n",
            "\u001b[0;32m/usr/local/lib/python3.12/dist-packages/bigframes/formatting_helpers.py\u001b[0m in \u001b[0;36mwait_for_query_job\u001b[0;34m(query_job, max_results, page_size, progress_bar)\u001b[0m\n\u001b[1;32m    147\u001b[0m             \u001b[0mloading_bar\u001b[0m \u001b[0;34m=\u001b[0m \u001b[0mdisplay\u001b[0m\u001b[0;34m.\u001b[0m\u001b[0mHTML\u001b[0m\u001b[0;34m(\u001b[0m\u001b[0mget_query_job_loading_html\u001b[0m\u001b[0;34m(\u001b[0m\u001b[0mquery_job\u001b[0m\u001b[0;34m)\u001b[0m\u001b[0;34m)\u001b[0m\u001b[0;34m\u001b[0m\u001b[0;34m\u001b[0m\u001b[0m\n\u001b[1;32m    148\u001b[0m             \u001b[0mdisplay\u001b[0m\u001b[0;34m.\u001b[0m\u001b[0mdisplay\u001b[0m\u001b[0;34m(\u001b[0m\u001b[0mloading_bar\u001b[0m\u001b[0;34m,\u001b[0m \u001b[0mdisplay_id\u001b[0m\u001b[0;34m=\u001b[0m\u001b[0mdisplay_id\u001b[0m\u001b[0;34m)\u001b[0m\u001b[0;34m\u001b[0m\u001b[0;34m\u001b[0m\u001b[0m\n\u001b[0;32m--> 149\u001b[0;31m             query_result = query_job.result(\n\u001b[0m\u001b[1;32m    150\u001b[0m                 \u001b[0mmax_results\u001b[0m\u001b[0;34m=\u001b[0m\u001b[0mmax_results\u001b[0m\u001b[0;34m,\u001b[0m \u001b[0mpage_size\u001b[0m\u001b[0;34m=\u001b[0m\u001b[0mpage_size\u001b[0m\u001b[0;34m\u001b[0m\u001b[0;34m\u001b[0m\u001b[0m\n\u001b[1;32m    151\u001b[0m             )\n",
            "\u001b[0;32m/usr/local/lib/python3.12/dist-packages/google/cloud/bigquery/job/query.py\u001b[0m in \u001b[0;36mresult\u001b[0;34m(self, page_size, max_results, retry, timeout, start_index, job_retry)\u001b[0m\n\u001b[1;32m   1704\u001b[0m                 \u001b[0;31m# Since is_job_done() calls jobs.getQueryResults, which is a\u001b[0m\u001b[0;34m\u001b[0m\u001b[0;34m\u001b[0m\u001b[0m\n\u001b[1;32m   1705\u001b[0m                 \u001b[0;31m# long-running API, don't delay the next request at all.\u001b[0m\u001b[0;34m\u001b[0m\u001b[0;34m\u001b[0m\u001b[0m\n\u001b[0;32m-> 1706\u001b[0;31m                 \u001b[0;32mwhile\u001b[0m \u001b[0;32mnot\u001b[0m \u001b[0mis_job_done\u001b[0m\u001b[0;34m(\u001b[0m\u001b[0;34m)\u001b[0m\u001b[0;34m:\u001b[0m\u001b[0;34m\u001b[0m\u001b[0;34m\u001b[0m\u001b[0m\n\u001b[0m\u001b[1;32m   1707\u001b[0m                     \u001b[0;32mpass\u001b[0m\u001b[0;34m\u001b[0m\u001b[0;34m\u001b[0m\u001b[0m\n\u001b[1;32m   1708\u001b[0m             \u001b[0;32melse\u001b[0m\u001b[0;34m:\u001b[0m\u001b[0;34m\u001b[0m\u001b[0;34m\u001b[0m\u001b[0m\n",
            "\u001b[0;32m/usr/local/lib/python3.12/dist-packages/google/api_core/retry/retry_unary.py\u001b[0m in \u001b[0;36mretry_wrapped_func\u001b[0;34m(*args, **kwargs)\u001b[0m\n\u001b[1;32m    292\u001b[0m                 \u001b[0mself\u001b[0m\u001b[0;34m.\u001b[0m\u001b[0m_initial\u001b[0m\u001b[0;34m,\u001b[0m \u001b[0mself\u001b[0m\u001b[0;34m.\u001b[0m\u001b[0m_maximum\u001b[0m\u001b[0;34m,\u001b[0m \u001b[0mmultiplier\u001b[0m\u001b[0;34m=\u001b[0m\u001b[0mself\u001b[0m\u001b[0;34m.\u001b[0m\u001b[0m_multiplier\u001b[0m\u001b[0;34m\u001b[0m\u001b[0;34m\u001b[0m\u001b[0m\n\u001b[1;32m    293\u001b[0m             )\n\u001b[0;32m--> 294\u001b[0;31m             return retry_target(\n\u001b[0m\u001b[1;32m    295\u001b[0m                 \u001b[0mtarget\u001b[0m\u001b[0;34m,\u001b[0m\u001b[0;34m\u001b[0m\u001b[0;34m\u001b[0m\u001b[0m\n\u001b[1;32m    296\u001b[0m                 \u001b[0mself\u001b[0m\u001b[0;34m.\u001b[0m\u001b[0m_predicate\u001b[0m\u001b[0;34m,\u001b[0m\u001b[0;34m\u001b[0m\u001b[0;34m\u001b[0m\u001b[0m\n",
            "\u001b[0;32m/usr/local/lib/python3.12/dist-packages/google/api_core/retry/retry_unary.py\u001b[0m in \u001b[0;36mretry_target\u001b[0;34m(target, predicate, sleep_generator, timeout, on_error, exception_factory, **kwargs)\u001b[0m\n\u001b[1;32m    145\u001b[0m     \u001b[0;32mwhile\u001b[0m \u001b[0;32mTrue\u001b[0m\u001b[0;34m:\u001b[0m\u001b[0;34m\u001b[0m\u001b[0;34m\u001b[0m\u001b[0m\n\u001b[1;32m    146\u001b[0m         \u001b[0;32mtry\u001b[0m\u001b[0;34m:\u001b[0m\u001b[0;34m\u001b[0m\u001b[0;34m\u001b[0m\u001b[0m\n\u001b[0;32m--> 147\u001b[0;31m             \u001b[0mresult\u001b[0m \u001b[0;34m=\u001b[0m \u001b[0mtarget\u001b[0m\u001b[0;34m(\u001b[0m\u001b[0;34m)\u001b[0m\u001b[0;34m\u001b[0m\u001b[0;34m\u001b[0m\u001b[0m\n\u001b[0m\u001b[1;32m    148\u001b[0m             \u001b[0;32mif\u001b[0m \u001b[0minspect\u001b[0m\u001b[0;34m.\u001b[0m\u001b[0misawaitable\u001b[0m\u001b[0;34m(\u001b[0m\u001b[0mresult\u001b[0m\u001b[0;34m)\u001b[0m\u001b[0;34m:\u001b[0m\u001b[0;34m\u001b[0m\u001b[0;34m\u001b[0m\u001b[0m\n\u001b[1;32m    149\u001b[0m                 \u001b[0mwarnings\u001b[0m\u001b[0;34m.\u001b[0m\u001b[0mwarn\u001b[0m\u001b[0;34m(\u001b[0m\u001b[0m_ASYNC_RETRY_WARNING\u001b[0m\u001b[0;34m)\u001b[0m\u001b[0;34m\u001b[0m\u001b[0;34m\u001b[0m\u001b[0m\n",
            "\u001b[0;32m/usr/local/lib/python3.12/dist-packages/google/cloud/bigquery/job/query.py\u001b[0m in \u001b[0;36mis_job_done\u001b[0;34m()\u001b[0m\n\u001b[1;32m   1673\u001b[0m                 \u001b[0;31m# jobs.getQueryResults hangs as long as it can to ensure we\u001b[0m\u001b[0;34m\u001b[0m\u001b[0;34m\u001b[0m\u001b[0m\n\u001b[1;32m   1674\u001b[0m                 \u001b[0;31m# know when the query has finished as soon as possible.\u001b[0m\u001b[0;34m\u001b[0m\u001b[0;34m\u001b[0m\u001b[0m\n\u001b[0;32m-> 1675\u001b[0;31m                 \u001b[0mself\u001b[0m\u001b[0;34m.\u001b[0m\u001b[0m_reload_query_results\u001b[0m\u001b[0;34m(\u001b[0m\u001b[0mretry\u001b[0m\u001b[0;34m=\u001b[0m\u001b[0mretry\u001b[0m\u001b[0;34m,\u001b[0m \u001b[0;34m**\u001b[0m\u001b[0mreload_query_results_kwargs\u001b[0m\u001b[0;34m)\u001b[0m\u001b[0;34m\u001b[0m\u001b[0;34m\u001b[0m\u001b[0m\n\u001b[0m\u001b[1;32m   1676\u001b[0m \u001b[0;34m\u001b[0m\u001b[0m\n\u001b[1;32m   1677\u001b[0m                 \u001b[0;31m# Even if the query is finished now according to\u001b[0m\u001b[0;34m\u001b[0m\u001b[0;34m\u001b[0m\u001b[0m\n",
            "\u001b[0;32m/usr/local/lib/python3.12/dist-packages/google/cloud/bigquery/job/query.py\u001b[0m in \u001b[0;36m_reload_query_results\u001b[0;34m(self, retry, timeout, page_size, start_index)\u001b[0m\n\u001b[1;32m   1465\u001b[0m                 \u001b[0mtransport_timeout\u001b[0m \u001b[0;34m=\u001b[0m \u001b[0;32mNone\u001b[0m\u001b[0;34m\u001b[0m\u001b[0;34m\u001b[0m\u001b[0m\n\u001b[1;32m   1466\u001b[0m \u001b[0;34m\u001b[0m\u001b[0m\n\u001b[0;32m-> 1467\u001b[0;31m         self._query_results = self._client._get_query_results(\n\u001b[0m\u001b[1;32m   1468\u001b[0m             \u001b[0mself\u001b[0m\u001b[0;34m.\u001b[0m\u001b[0mjob_id\u001b[0m\u001b[0;34m,\u001b[0m\u001b[0;34m\u001b[0m\u001b[0;34m\u001b[0m\u001b[0m\n\u001b[1;32m   1469\u001b[0m             \u001b[0mretry\u001b[0m\u001b[0;34m,\u001b[0m\u001b[0;34m\u001b[0m\u001b[0;34m\u001b[0m\u001b[0m\n",
            "\u001b[0;32m/usr/local/lib/python3.12/dist-packages/google/cloud/bigquery/client.py\u001b[0m in \u001b[0;36m_get_query_results\u001b[0;34m(self, job_id, retry, project, timeout_ms, location, timeout, page_size, start_index)\u001b[0m\n\u001b[1;32m   2111\u001b[0m         \u001b[0;31m# QueryJob.result()). So we don't need to poll here.\u001b[0m\u001b[0;34m\u001b[0m\u001b[0;34m\u001b[0m\u001b[0m\n\u001b[1;32m   2112\u001b[0m         \u001b[0mspan_attributes\u001b[0m \u001b[0;34m=\u001b[0m \u001b[0;34m{\u001b[0m\u001b[0;34m\"path\"\u001b[0m\u001b[0;34m:\u001b[0m \u001b[0mpath\u001b[0m\u001b[0;34m}\u001b[0m\u001b[0;34m\u001b[0m\u001b[0;34m\u001b[0m\u001b[0m\n\u001b[0;32m-> 2113\u001b[0;31m         resource = self._call_api(\n\u001b[0m\u001b[1;32m   2114\u001b[0m             \u001b[0mretry\u001b[0m\u001b[0;34m,\u001b[0m\u001b[0;34m\u001b[0m\u001b[0;34m\u001b[0m\u001b[0m\n\u001b[1;32m   2115\u001b[0m             \u001b[0mspan_name\u001b[0m\u001b[0;34m=\u001b[0m\u001b[0;34m\"BigQuery.getQueryResults\"\u001b[0m\u001b[0;34m,\u001b[0m\u001b[0;34m\u001b[0m\u001b[0;34m\u001b[0m\u001b[0m\n",
            "\u001b[0;32m/usr/local/lib/python3.12/dist-packages/google/cloud/bigquery/client.py\u001b[0m in \u001b[0;36m_call_api\u001b[0;34m(self, retry, span_name, span_attributes, job_ref, headers, **kwargs)\u001b[0m\n\u001b[1;32m    859\u001b[0m                 \u001b[0mname\u001b[0m\u001b[0;34m=\u001b[0m\u001b[0mspan_name\u001b[0m\u001b[0;34m,\u001b[0m \u001b[0mattributes\u001b[0m\u001b[0;34m=\u001b[0m\u001b[0mspan_attributes\u001b[0m\u001b[0;34m,\u001b[0m \u001b[0mclient\u001b[0m\u001b[0;34m=\u001b[0m\u001b[0mself\u001b[0m\u001b[0;34m,\u001b[0m \u001b[0mjob_ref\u001b[0m\u001b[0;34m=\u001b[0m\u001b[0mjob_ref\u001b[0m\u001b[0;34m\u001b[0m\u001b[0;34m\u001b[0m\u001b[0m\n\u001b[1;32m    860\u001b[0m             ):\n\u001b[0;32m--> 861\u001b[0;31m                 \u001b[0;32mreturn\u001b[0m \u001b[0mcall\u001b[0m\u001b[0;34m(\u001b[0m\u001b[0;34m)\u001b[0m\u001b[0;34m\u001b[0m\u001b[0;34m\u001b[0m\u001b[0m\n\u001b[0m\u001b[1;32m    862\u001b[0m \u001b[0;34m\u001b[0m\u001b[0m\n\u001b[1;32m    863\u001b[0m         \u001b[0;32mreturn\u001b[0m \u001b[0mcall\u001b[0m\u001b[0;34m(\u001b[0m\u001b[0;34m)\u001b[0m\u001b[0;34m\u001b[0m\u001b[0;34m\u001b[0m\u001b[0m\n",
            "\u001b[0;32m/usr/local/lib/python3.12/dist-packages/google/api_core/retry/retry_unary.py\u001b[0m in \u001b[0;36mretry_wrapped_func\u001b[0;34m(*args, **kwargs)\u001b[0m\n\u001b[1;32m    292\u001b[0m                 \u001b[0mself\u001b[0m\u001b[0;34m.\u001b[0m\u001b[0m_initial\u001b[0m\u001b[0;34m,\u001b[0m \u001b[0mself\u001b[0m\u001b[0;34m.\u001b[0m\u001b[0m_maximum\u001b[0m\u001b[0;34m,\u001b[0m \u001b[0mmultiplier\u001b[0m\u001b[0;34m=\u001b[0m\u001b[0mself\u001b[0m\u001b[0;34m.\u001b[0m\u001b[0m_multiplier\u001b[0m\u001b[0;34m\u001b[0m\u001b[0;34m\u001b[0m\u001b[0m\n\u001b[1;32m    293\u001b[0m             )\n\u001b[0;32m--> 294\u001b[0;31m             return retry_target(\n\u001b[0m\u001b[1;32m    295\u001b[0m                 \u001b[0mtarget\u001b[0m\u001b[0;34m,\u001b[0m\u001b[0;34m\u001b[0m\u001b[0;34m\u001b[0m\u001b[0m\n\u001b[1;32m    296\u001b[0m                 \u001b[0mself\u001b[0m\u001b[0;34m.\u001b[0m\u001b[0m_predicate\u001b[0m\u001b[0;34m,\u001b[0m\u001b[0;34m\u001b[0m\u001b[0;34m\u001b[0m\u001b[0m\n",
            "\u001b[0;32m/usr/local/lib/python3.12/dist-packages/google/api_core/retry/retry_unary.py\u001b[0m in \u001b[0;36mretry_target\u001b[0;34m(target, predicate, sleep_generator, timeout, on_error, exception_factory, **kwargs)\u001b[0m\n\u001b[1;32m    145\u001b[0m     \u001b[0;32mwhile\u001b[0m \u001b[0;32mTrue\u001b[0m\u001b[0;34m:\u001b[0m\u001b[0;34m\u001b[0m\u001b[0;34m\u001b[0m\u001b[0m\n\u001b[1;32m    146\u001b[0m         \u001b[0;32mtry\u001b[0m\u001b[0;34m:\u001b[0m\u001b[0;34m\u001b[0m\u001b[0;34m\u001b[0m\u001b[0m\n\u001b[0;32m--> 147\u001b[0;31m             \u001b[0mresult\u001b[0m \u001b[0;34m=\u001b[0m \u001b[0mtarget\u001b[0m\u001b[0;34m(\u001b[0m\u001b[0;34m)\u001b[0m\u001b[0;34m\u001b[0m\u001b[0;34m\u001b[0m\u001b[0m\n\u001b[0m\u001b[1;32m    148\u001b[0m             \u001b[0;32mif\u001b[0m \u001b[0minspect\u001b[0m\u001b[0;34m.\u001b[0m\u001b[0misawaitable\u001b[0m\u001b[0;34m(\u001b[0m\u001b[0mresult\u001b[0m\u001b[0;34m)\u001b[0m\u001b[0;34m:\u001b[0m\u001b[0;34m\u001b[0m\u001b[0;34m\u001b[0m\u001b[0m\n\u001b[1;32m    149\u001b[0m                 \u001b[0mwarnings\u001b[0m\u001b[0;34m.\u001b[0m\u001b[0mwarn\u001b[0m\u001b[0;34m(\u001b[0m\u001b[0m_ASYNC_RETRY_WARNING\u001b[0m\u001b[0;34m)\u001b[0m\u001b[0;34m\u001b[0m\u001b[0;34m\u001b[0m\u001b[0m\n",
            "\u001b[0;32m/usr/local/lib/python3.12/dist-packages/google/cloud/_http/__init__.py\u001b[0m in \u001b[0;36mapi_request\u001b[0;34m(self, method, path, query_params, data, content_type, headers, api_base_url, api_version, expect_json, _target_object, timeout, extra_api_info)\u001b[0m\n\u001b[1;32m    480\u001b[0m             \u001b[0mcontent_type\u001b[0m \u001b[0;34m=\u001b[0m \u001b[0;34m\"application/json\"\u001b[0m\u001b[0;34m\u001b[0m\u001b[0;34m\u001b[0m\u001b[0m\n\u001b[1;32m    481\u001b[0m \u001b[0;34m\u001b[0m\u001b[0m\n\u001b[0;32m--> 482\u001b[0;31m         response = self._make_request(\n\u001b[0m\u001b[1;32m    483\u001b[0m             \u001b[0mmethod\u001b[0m\u001b[0;34m=\u001b[0m\u001b[0mmethod\u001b[0m\u001b[0;34m,\u001b[0m\u001b[0;34m\u001b[0m\u001b[0;34m\u001b[0m\u001b[0m\n\u001b[1;32m    484\u001b[0m             \u001b[0murl\u001b[0m\u001b[0;34m=\u001b[0m\u001b[0murl\u001b[0m\u001b[0;34m,\u001b[0m\u001b[0;34m\u001b[0m\u001b[0;34m\u001b[0m\u001b[0m\n",
            "\u001b[0;32m/usr/local/lib/python3.12/dist-packages/google/cloud/_http/__init__.py\u001b[0m in \u001b[0;36m_make_request\u001b[0;34m(self, method, url, data, content_type, headers, target_object, timeout, extra_api_info)\u001b[0m\n\u001b[1;32m    339\u001b[0m         \u001b[0mheaders\u001b[0m\u001b[0;34m[\u001b[0m\u001b[0;34m\"User-Agent\"\u001b[0m\u001b[0;34m]\u001b[0m \u001b[0;34m=\u001b[0m \u001b[0mself\u001b[0m\u001b[0;34m.\u001b[0m\u001b[0muser_agent\u001b[0m\u001b[0;34m\u001b[0m\u001b[0;34m\u001b[0m\u001b[0m\n\u001b[1;32m    340\u001b[0m \u001b[0;34m\u001b[0m\u001b[0m\n\u001b[0;32m--> 341\u001b[0;31m         return self._do_request(\n\u001b[0m\u001b[1;32m    342\u001b[0m             \u001b[0mmethod\u001b[0m\u001b[0;34m,\u001b[0m \u001b[0murl\u001b[0m\u001b[0;34m,\u001b[0m \u001b[0mheaders\u001b[0m\u001b[0;34m,\u001b[0m \u001b[0mdata\u001b[0m\u001b[0;34m,\u001b[0m \u001b[0mtarget_object\u001b[0m\u001b[0;34m,\u001b[0m \u001b[0mtimeout\u001b[0m\u001b[0;34m=\u001b[0m\u001b[0mtimeout\u001b[0m\u001b[0;34m\u001b[0m\u001b[0;34m\u001b[0m\u001b[0m\n\u001b[1;32m    343\u001b[0m         )\n",
            "\u001b[0;32m/usr/local/lib/python3.12/dist-packages/google/cloud/_http/__init__.py\u001b[0m in \u001b[0;36m_do_request\u001b[0;34m(self, method, url, headers, data, target_object, timeout)\u001b[0m\n\u001b[1;32m    377\u001b[0m         \u001b[0;34m:\u001b[0m\u001b[0mreturns\u001b[0m\u001b[0;34m:\u001b[0m \u001b[0mThe\u001b[0m \u001b[0mHTTP\u001b[0m \u001b[0mresponse\u001b[0m\u001b[0;34m.\u001b[0m\u001b[0;34m\u001b[0m\u001b[0;34m\u001b[0m\u001b[0m\n\u001b[1;32m    378\u001b[0m         \"\"\"\n\u001b[0;32m--> 379\u001b[0;31m         return self.http.request(\n\u001b[0m\u001b[1;32m    380\u001b[0m             \u001b[0murl\u001b[0m\u001b[0;34m=\u001b[0m\u001b[0murl\u001b[0m\u001b[0;34m,\u001b[0m \u001b[0mmethod\u001b[0m\u001b[0;34m=\u001b[0m\u001b[0mmethod\u001b[0m\u001b[0;34m,\u001b[0m \u001b[0mheaders\u001b[0m\u001b[0;34m=\u001b[0m\u001b[0mheaders\u001b[0m\u001b[0;34m,\u001b[0m \u001b[0mdata\u001b[0m\u001b[0;34m=\u001b[0m\u001b[0mdata\u001b[0m\u001b[0;34m,\u001b[0m \u001b[0mtimeout\u001b[0m\u001b[0;34m=\u001b[0m\u001b[0mtimeout\u001b[0m\u001b[0;34m\u001b[0m\u001b[0;34m\u001b[0m\u001b[0m\n\u001b[1;32m    381\u001b[0m         )\n",
            "\u001b[0;32m/usr/local/lib/python3.12/dist-packages/google/auth/transport/requests.py\u001b[0m in \u001b[0;36mrequest\u001b[0;34m(self, method, url, data, headers, max_allowed_time, timeout, **kwargs)\u001b[0m\n\u001b[1;32m    535\u001b[0m \u001b[0;34m\u001b[0m\u001b[0m\n\u001b[1;32m    536\u001b[0m         \u001b[0;32mwith\u001b[0m \u001b[0mTimeoutGuard\u001b[0m\u001b[0;34m(\u001b[0m\u001b[0mremaining_time\u001b[0m\u001b[0;34m)\u001b[0m \u001b[0;32mas\u001b[0m \u001b[0mguard\u001b[0m\u001b[0;34m:\u001b[0m\u001b[0;34m\u001b[0m\u001b[0;34m\u001b[0m\u001b[0m\n\u001b[0;32m--> 537\u001b[0;31m             response = super(AuthorizedSession, self).request(\n\u001b[0m\u001b[1;32m    538\u001b[0m                 \u001b[0mmethod\u001b[0m\u001b[0;34m,\u001b[0m\u001b[0;34m\u001b[0m\u001b[0;34m\u001b[0m\u001b[0m\n\u001b[1;32m    539\u001b[0m                 \u001b[0murl\u001b[0m\u001b[0;34m,\u001b[0m\u001b[0;34m\u001b[0m\u001b[0;34m\u001b[0m\u001b[0m\n",
            "\u001b[0;32m/usr/local/lib/python3.12/dist-packages/requests/sessions.py\u001b[0m in \u001b[0;36mrequest\u001b[0;34m(self, method, url, params, data, headers, cookies, files, auth, timeout, allow_redirects, proxies, hooks, stream, verify, cert, json)\u001b[0m\n\u001b[1;32m    587\u001b[0m         }\n\u001b[1;32m    588\u001b[0m         \u001b[0msend_kwargs\u001b[0m\u001b[0;34m.\u001b[0m\u001b[0mupdate\u001b[0m\u001b[0;34m(\u001b[0m\u001b[0msettings\u001b[0m\u001b[0;34m)\u001b[0m\u001b[0;34m\u001b[0m\u001b[0;34m\u001b[0m\u001b[0m\n\u001b[0;32m--> 589\u001b[0;31m         \u001b[0mresp\u001b[0m \u001b[0;34m=\u001b[0m \u001b[0mself\u001b[0m\u001b[0;34m.\u001b[0m\u001b[0msend\u001b[0m\u001b[0;34m(\u001b[0m\u001b[0mprep\u001b[0m\u001b[0;34m,\u001b[0m \u001b[0;34m**\u001b[0m\u001b[0msend_kwargs\u001b[0m\u001b[0;34m)\u001b[0m\u001b[0;34m\u001b[0m\u001b[0;34m\u001b[0m\u001b[0m\n\u001b[0m\u001b[1;32m    590\u001b[0m \u001b[0;34m\u001b[0m\u001b[0m\n\u001b[1;32m    591\u001b[0m         \u001b[0;32mreturn\u001b[0m \u001b[0mresp\u001b[0m\u001b[0;34m\u001b[0m\u001b[0;34m\u001b[0m\u001b[0m\n",
            "\u001b[0;32m/usr/local/lib/python3.12/dist-packages/requests/sessions.py\u001b[0m in \u001b[0;36msend\u001b[0;34m(self, request, **kwargs)\u001b[0m\n\u001b[1;32m    701\u001b[0m \u001b[0;34m\u001b[0m\u001b[0m\n\u001b[1;32m    702\u001b[0m         \u001b[0;31m# Send the request\u001b[0m\u001b[0;34m\u001b[0m\u001b[0;34m\u001b[0m\u001b[0m\n\u001b[0;32m--> 703\u001b[0;31m         \u001b[0mr\u001b[0m \u001b[0;34m=\u001b[0m \u001b[0madapter\u001b[0m\u001b[0;34m.\u001b[0m\u001b[0msend\u001b[0m\u001b[0;34m(\u001b[0m\u001b[0mrequest\u001b[0m\u001b[0;34m,\u001b[0m \u001b[0;34m**\u001b[0m\u001b[0mkwargs\u001b[0m\u001b[0;34m)\u001b[0m\u001b[0;34m\u001b[0m\u001b[0;34m\u001b[0m\u001b[0m\n\u001b[0m\u001b[1;32m    704\u001b[0m \u001b[0;34m\u001b[0m\u001b[0m\n\u001b[1;32m    705\u001b[0m         \u001b[0;31m# Total elapsed time of the request (approximately)\u001b[0m\u001b[0;34m\u001b[0m\u001b[0;34m\u001b[0m\u001b[0m\n",
            "\u001b[0;32m/usr/local/lib/python3.12/dist-packages/requests/adapters.py\u001b[0m in \u001b[0;36msend\u001b[0;34m(self, request, stream, timeout, verify, cert, proxies)\u001b[0m\n\u001b[1;32m    665\u001b[0m \u001b[0;34m\u001b[0m\u001b[0m\n\u001b[1;32m    666\u001b[0m         \u001b[0;32mtry\u001b[0m\u001b[0;34m:\u001b[0m\u001b[0;34m\u001b[0m\u001b[0;34m\u001b[0m\u001b[0m\n\u001b[0;32m--> 667\u001b[0;31m             resp = conn.urlopen(\n\u001b[0m\u001b[1;32m    668\u001b[0m                 \u001b[0mmethod\u001b[0m\u001b[0;34m=\u001b[0m\u001b[0mrequest\u001b[0m\u001b[0;34m.\u001b[0m\u001b[0mmethod\u001b[0m\u001b[0;34m,\u001b[0m\u001b[0;34m\u001b[0m\u001b[0;34m\u001b[0m\u001b[0m\n\u001b[1;32m    669\u001b[0m                 \u001b[0murl\u001b[0m\u001b[0;34m=\u001b[0m\u001b[0murl\u001b[0m\u001b[0;34m,\u001b[0m\u001b[0;34m\u001b[0m\u001b[0;34m\u001b[0m\u001b[0m\n",
            "\u001b[0;32m/usr/local/lib/python3.12/dist-packages/urllib3/connectionpool.py\u001b[0m in \u001b[0;36murlopen\u001b[0;34m(self, method, url, body, headers, retries, redirect, assert_same_host, timeout, pool_timeout, release_conn, chunked, body_pos, preload_content, decode_content, **response_kw)\u001b[0m\n\u001b[1;32m    785\u001b[0m \u001b[0;34m\u001b[0m\u001b[0m\n\u001b[1;32m    786\u001b[0m             \u001b[0;31m# Make the request on the HTTPConnection object\u001b[0m\u001b[0;34m\u001b[0m\u001b[0;34m\u001b[0m\u001b[0m\n\u001b[0;32m--> 787\u001b[0;31m             response = self._make_request(\n\u001b[0m\u001b[1;32m    788\u001b[0m                 \u001b[0mconn\u001b[0m\u001b[0;34m,\u001b[0m\u001b[0;34m\u001b[0m\u001b[0;34m\u001b[0m\u001b[0m\n\u001b[1;32m    789\u001b[0m                 \u001b[0mmethod\u001b[0m\u001b[0;34m,\u001b[0m\u001b[0;34m\u001b[0m\u001b[0;34m\u001b[0m\u001b[0m\n",
            "\u001b[0;32m/usr/local/lib/python3.12/dist-packages/urllib3/connectionpool.py\u001b[0m in \u001b[0;36m_make_request\u001b[0;34m(self, conn, method, url, body, headers, retries, timeout, chunked, response_conn, preload_content, decode_content, enforce_content_length)\u001b[0m\n\u001b[1;32m    532\u001b[0m         \u001b[0;31m# Receive the response from the server\u001b[0m\u001b[0;34m\u001b[0m\u001b[0;34m\u001b[0m\u001b[0m\n\u001b[1;32m    533\u001b[0m         \u001b[0;32mtry\u001b[0m\u001b[0;34m:\u001b[0m\u001b[0;34m\u001b[0m\u001b[0;34m\u001b[0m\u001b[0m\n\u001b[0;32m--> 534\u001b[0;31m             \u001b[0mresponse\u001b[0m \u001b[0;34m=\u001b[0m \u001b[0mconn\u001b[0m\u001b[0;34m.\u001b[0m\u001b[0mgetresponse\u001b[0m\u001b[0;34m(\u001b[0m\u001b[0;34m)\u001b[0m\u001b[0;34m\u001b[0m\u001b[0;34m\u001b[0m\u001b[0m\n\u001b[0m\u001b[1;32m    535\u001b[0m         \u001b[0;32mexcept\u001b[0m \u001b[0;34m(\u001b[0m\u001b[0mBaseSSLError\u001b[0m\u001b[0;34m,\u001b[0m \u001b[0mOSError\u001b[0m\u001b[0;34m)\u001b[0m \u001b[0;32mas\u001b[0m \u001b[0me\u001b[0m\u001b[0;34m:\u001b[0m\u001b[0;34m\u001b[0m\u001b[0;34m\u001b[0m\u001b[0m\n\u001b[1;32m    536\u001b[0m             \u001b[0mself\u001b[0m\u001b[0;34m.\u001b[0m\u001b[0m_raise_timeout\u001b[0m\u001b[0;34m(\u001b[0m\u001b[0merr\u001b[0m\u001b[0;34m=\u001b[0m\u001b[0me\u001b[0m\u001b[0;34m,\u001b[0m \u001b[0murl\u001b[0m\u001b[0;34m=\u001b[0m\u001b[0murl\u001b[0m\u001b[0;34m,\u001b[0m \u001b[0mtimeout_value\u001b[0m\u001b[0;34m=\u001b[0m\u001b[0mread_timeout\u001b[0m\u001b[0;34m)\u001b[0m\u001b[0;34m\u001b[0m\u001b[0;34m\u001b[0m\u001b[0m\n",
            "\u001b[0;32m/usr/local/lib/python3.12/dist-packages/urllib3/connection.py\u001b[0m in \u001b[0;36mgetresponse\u001b[0;34m(self)\u001b[0m\n\u001b[1;32m    563\u001b[0m \u001b[0;34m\u001b[0m\u001b[0m\n\u001b[1;32m    564\u001b[0m         \u001b[0;31m# Get the response from http.client.HTTPConnection\u001b[0m\u001b[0;34m\u001b[0m\u001b[0;34m\u001b[0m\u001b[0m\n\u001b[0;32m--> 565\u001b[0;31m         \u001b[0mhttplib_response\u001b[0m \u001b[0;34m=\u001b[0m \u001b[0msuper\u001b[0m\u001b[0;34m(\u001b[0m\u001b[0;34m)\u001b[0m\u001b[0;34m.\u001b[0m\u001b[0mgetresponse\u001b[0m\u001b[0;34m(\u001b[0m\u001b[0;34m)\u001b[0m\u001b[0;34m\u001b[0m\u001b[0;34m\u001b[0m\u001b[0m\n\u001b[0m\u001b[1;32m    566\u001b[0m \u001b[0;34m\u001b[0m\u001b[0m\n\u001b[1;32m    567\u001b[0m         \u001b[0;32mtry\u001b[0m\u001b[0;34m:\u001b[0m\u001b[0;34m\u001b[0m\u001b[0;34m\u001b[0m\u001b[0m\n",
            "\u001b[0;32m/usr/lib/python3.12/http/client.py\u001b[0m in \u001b[0;36mgetresponse\u001b[0;34m(self)\u001b[0m\n\u001b[1;32m   1428\u001b[0m         \u001b[0;32mtry\u001b[0m\u001b[0;34m:\u001b[0m\u001b[0;34m\u001b[0m\u001b[0;34m\u001b[0m\u001b[0m\n\u001b[1;32m   1429\u001b[0m             \u001b[0;32mtry\u001b[0m\u001b[0;34m:\u001b[0m\u001b[0;34m\u001b[0m\u001b[0;34m\u001b[0m\u001b[0m\n\u001b[0;32m-> 1430\u001b[0;31m                 \u001b[0mresponse\u001b[0m\u001b[0;34m.\u001b[0m\u001b[0mbegin\u001b[0m\u001b[0;34m(\u001b[0m\u001b[0;34m)\u001b[0m\u001b[0;34m\u001b[0m\u001b[0;34m\u001b[0m\u001b[0m\n\u001b[0m\u001b[1;32m   1431\u001b[0m             \u001b[0;32mexcept\u001b[0m \u001b[0mConnectionError\u001b[0m\u001b[0;34m:\u001b[0m\u001b[0;34m\u001b[0m\u001b[0;34m\u001b[0m\u001b[0m\n\u001b[1;32m   1432\u001b[0m                 \u001b[0mself\u001b[0m\u001b[0;34m.\u001b[0m\u001b[0mclose\u001b[0m\u001b[0;34m(\u001b[0m\u001b[0;34m)\u001b[0m\u001b[0;34m\u001b[0m\u001b[0;34m\u001b[0m\u001b[0m\n",
            "\u001b[0;32m/usr/lib/python3.12/http/client.py\u001b[0m in \u001b[0;36mbegin\u001b[0;34m(self)\u001b[0m\n\u001b[1;32m    329\u001b[0m         \u001b[0;31m# read until we get a non-100 response\u001b[0m\u001b[0;34m\u001b[0m\u001b[0;34m\u001b[0m\u001b[0m\n\u001b[1;32m    330\u001b[0m         \u001b[0;32mwhile\u001b[0m \u001b[0;32mTrue\u001b[0m\u001b[0;34m:\u001b[0m\u001b[0;34m\u001b[0m\u001b[0;34m\u001b[0m\u001b[0m\n\u001b[0;32m--> 331\u001b[0;31m             \u001b[0mversion\u001b[0m\u001b[0;34m,\u001b[0m \u001b[0mstatus\u001b[0m\u001b[0;34m,\u001b[0m \u001b[0mreason\u001b[0m \u001b[0;34m=\u001b[0m \u001b[0mself\u001b[0m\u001b[0;34m.\u001b[0m\u001b[0m_read_status\u001b[0m\u001b[0;34m(\u001b[0m\u001b[0;34m)\u001b[0m\u001b[0;34m\u001b[0m\u001b[0;34m\u001b[0m\u001b[0m\n\u001b[0m\u001b[1;32m    332\u001b[0m             \u001b[0;32mif\u001b[0m \u001b[0mstatus\u001b[0m \u001b[0;34m!=\u001b[0m \u001b[0mCONTINUE\u001b[0m\u001b[0;34m:\u001b[0m\u001b[0;34m\u001b[0m\u001b[0;34m\u001b[0m\u001b[0m\n\u001b[1;32m    333\u001b[0m                 \u001b[0;32mbreak\u001b[0m\u001b[0;34m\u001b[0m\u001b[0;34m\u001b[0m\u001b[0m\n",
            "\u001b[0;32m/usr/lib/python3.12/http/client.py\u001b[0m in \u001b[0;36m_read_status\u001b[0;34m(self)\u001b[0m\n\u001b[1;32m    290\u001b[0m \u001b[0;34m\u001b[0m\u001b[0m\n\u001b[1;32m    291\u001b[0m     \u001b[0;32mdef\u001b[0m \u001b[0m_read_status\u001b[0m\u001b[0;34m(\u001b[0m\u001b[0mself\u001b[0m\u001b[0;34m)\u001b[0m\u001b[0;34m:\u001b[0m\u001b[0;34m\u001b[0m\u001b[0;34m\u001b[0m\u001b[0m\n\u001b[0;32m--> 292\u001b[0;31m         \u001b[0mline\u001b[0m \u001b[0;34m=\u001b[0m \u001b[0mstr\u001b[0m\u001b[0;34m(\u001b[0m\u001b[0mself\u001b[0m\u001b[0;34m.\u001b[0m\u001b[0mfp\u001b[0m\u001b[0;34m.\u001b[0m\u001b[0mreadline\u001b[0m\u001b[0;34m(\u001b[0m\u001b[0m_MAXLINE\u001b[0m \u001b[0;34m+\u001b[0m \u001b[0;36m1\u001b[0m\u001b[0;34m)\u001b[0m\u001b[0;34m,\u001b[0m \u001b[0;34m\"iso-8859-1\"\u001b[0m\u001b[0;34m)\u001b[0m\u001b[0;34m\u001b[0m\u001b[0;34m\u001b[0m\u001b[0m\n\u001b[0m\u001b[1;32m    293\u001b[0m         \u001b[0;32mif\u001b[0m \u001b[0mlen\u001b[0m\u001b[0;34m(\u001b[0m\u001b[0mline\u001b[0m\u001b[0;34m)\u001b[0m \u001b[0;34m>\u001b[0m \u001b[0m_MAXLINE\u001b[0m\u001b[0;34m:\u001b[0m\u001b[0;34m\u001b[0m\u001b[0;34m\u001b[0m\u001b[0m\n\u001b[1;32m    294\u001b[0m             \u001b[0;32mraise\u001b[0m \u001b[0mLineTooLong\u001b[0m\u001b[0;34m(\u001b[0m\u001b[0;34m\"status line\"\u001b[0m\u001b[0;34m)\u001b[0m\u001b[0;34m\u001b[0m\u001b[0;34m\u001b[0m\u001b[0m\n",
            "\u001b[0;32m/usr/lib/python3.12/socket.py\u001b[0m in \u001b[0;36mreadinto\u001b[0;34m(self, b)\u001b[0m\n\u001b[1;32m    718\u001b[0m         \u001b[0;32mwhile\u001b[0m \u001b[0;32mTrue\u001b[0m\u001b[0;34m:\u001b[0m\u001b[0;34m\u001b[0m\u001b[0;34m\u001b[0m\u001b[0m\n\u001b[1;32m    719\u001b[0m             \u001b[0;32mtry\u001b[0m\u001b[0;34m:\u001b[0m\u001b[0;34m\u001b[0m\u001b[0;34m\u001b[0m\u001b[0m\n\u001b[0;32m--> 720\u001b[0;31m                 \u001b[0;32mreturn\u001b[0m \u001b[0mself\u001b[0m\u001b[0;34m.\u001b[0m\u001b[0m_sock\u001b[0m\u001b[0;34m.\u001b[0m\u001b[0mrecv_into\u001b[0m\u001b[0;34m(\u001b[0m\u001b[0mb\u001b[0m\u001b[0;34m)\u001b[0m\u001b[0;34m\u001b[0m\u001b[0;34m\u001b[0m\u001b[0m\n\u001b[0m\u001b[1;32m    721\u001b[0m             \u001b[0;32mexcept\u001b[0m \u001b[0mtimeout\u001b[0m\u001b[0;34m:\u001b[0m\u001b[0;34m\u001b[0m\u001b[0;34m\u001b[0m\u001b[0m\n\u001b[1;32m    722\u001b[0m                 \u001b[0mself\u001b[0m\u001b[0;34m.\u001b[0m\u001b[0m_timeout_occurred\u001b[0m \u001b[0;34m=\u001b[0m \u001b[0;32mTrue\u001b[0m\u001b[0;34m\u001b[0m\u001b[0;34m\u001b[0m\u001b[0m\n",
            "\u001b[0;32m/usr/lib/python3.12/ssl.py\u001b[0m in \u001b[0;36mrecv_into\u001b[0;34m(self, buffer, nbytes, flags)\u001b[0m\n\u001b[1;32m   1249\u001b[0m                   \u001b[0;34m\"non-zero flags not allowed in calls to recv_into() on %s\"\u001b[0m \u001b[0;34m%\u001b[0m\u001b[0;34m\u001b[0m\u001b[0;34m\u001b[0m\u001b[0m\n\u001b[1;32m   1250\u001b[0m                   self.__class__)\n\u001b[0;32m-> 1251\u001b[0;31m             \u001b[0;32mreturn\u001b[0m \u001b[0mself\u001b[0m\u001b[0;34m.\u001b[0m\u001b[0mread\u001b[0m\u001b[0;34m(\u001b[0m\u001b[0mnbytes\u001b[0m\u001b[0;34m,\u001b[0m \u001b[0mbuffer\u001b[0m\u001b[0;34m)\u001b[0m\u001b[0;34m\u001b[0m\u001b[0;34m\u001b[0m\u001b[0m\n\u001b[0m\u001b[1;32m   1252\u001b[0m         \u001b[0;32melse\u001b[0m\u001b[0;34m:\u001b[0m\u001b[0;34m\u001b[0m\u001b[0;34m\u001b[0m\u001b[0m\n\u001b[1;32m   1253\u001b[0m             \u001b[0;32mreturn\u001b[0m \u001b[0msuper\u001b[0m\u001b[0;34m(\u001b[0m\u001b[0;34m)\u001b[0m\u001b[0;34m.\u001b[0m\u001b[0mrecv_into\u001b[0m\u001b[0;34m(\u001b[0m\u001b[0mbuffer\u001b[0m\u001b[0;34m,\u001b[0m \u001b[0mnbytes\u001b[0m\u001b[0;34m,\u001b[0m \u001b[0mflags\u001b[0m\u001b[0;34m)\u001b[0m\u001b[0;34m\u001b[0m\u001b[0;34m\u001b[0m\u001b[0m\n",
            "\u001b[0;32m/usr/lib/python3.12/ssl.py\u001b[0m in \u001b[0;36mread\u001b[0;34m(self, len, buffer)\u001b[0m\n\u001b[1;32m   1101\u001b[0m         \u001b[0;32mtry\u001b[0m\u001b[0;34m:\u001b[0m\u001b[0;34m\u001b[0m\u001b[0;34m\u001b[0m\u001b[0m\n\u001b[1;32m   1102\u001b[0m             \u001b[0;32mif\u001b[0m \u001b[0mbuffer\u001b[0m \u001b[0;32mis\u001b[0m \u001b[0;32mnot\u001b[0m \u001b[0;32mNone\u001b[0m\u001b[0;34m:\u001b[0m\u001b[0;34m\u001b[0m\u001b[0;34m\u001b[0m\u001b[0m\n\u001b[0;32m-> 1103\u001b[0;31m                 \u001b[0;32mreturn\u001b[0m \u001b[0mself\u001b[0m\u001b[0;34m.\u001b[0m\u001b[0m_sslobj\u001b[0m\u001b[0;34m.\u001b[0m\u001b[0mread\u001b[0m\u001b[0;34m(\u001b[0m\u001b[0mlen\u001b[0m\u001b[0;34m,\u001b[0m \u001b[0mbuffer\u001b[0m\u001b[0;34m)\u001b[0m\u001b[0;34m\u001b[0m\u001b[0;34m\u001b[0m\u001b[0m\n\u001b[0m\u001b[1;32m   1104\u001b[0m             \u001b[0;32melse\u001b[0m\u001b[0;34m:\u001b[0m\u001b[0;34m\u001b[0m\u001b[0;34m\u001b[0m\u001b[0m\n\u001b[1;32m   1105\u001b[0m                 \u001b[0;32mreturn\u001b[0m \u001b[0mself\u001b[0m\u001b[0;34m.\u001b[0m\u001b[0m_sslobj\u001b[0m\u001b[0;34m.\u001b[0m\u001b[0mread\u001b[0m\u001b[0;34m(\u001b[0m\u001b[0mlen\u001b[0m\u001b[0;34m)\u001b[0m\u001b[0;34m\u001b[0m\u001b[0;34m\u001b[0m\u001b[0m\n",
            "\u001b[0;31mKeyboardInterrupt\u001b[0m: "
          ]
        }
      ],
      "source": [
        "# Generate embeddings using TextEmbeddingGenerator with text-multilingual-embedding-002\n",
        "print(\"🧠 Generating embeddings for all patients...\")\n",
        "print(\"⏳ This may take a few minutes...\")\n",
        "\n",
        "start_time = time.time()\n",
        "\n",
        "# Initialize TextEmbeddingGenerator with the specific model\n",
        "text_model = TextEmbeddingGenerator()\n",
        "\n",
        "# Read data from BigQuery\n",
        "bdf_remote = bpd.read_gbq(FULL_TABLE_ID)\n",
        "\n",
        "# Prepare data for indexing - create content column from patient_description\n",
        "df_to_index = bdf_remote.assign(content=bdf_remote[\"patient_description\"])\n",
        "\n",
        "# Filter out empty content\n",
        "df_to_index = df_to_index[df_to_index[\"content\"] != \"\"]\n",
        "\n",
        "# Generate embeddings\n",
        "embedding = text_model.predict(df_to_index)\n",
        "\n",
        "# Check the status column to look for errors\n",
        "successful_rows = (embedding['ml_generate_embedding_status'] == '').sum()\n",
        "failed_rows = (embedding['ml_generate_embedding_status'] != '').sum()\n",
        "print(f\"✅ Successful rows: {successful_rows}\")\n",
        "print(f\"❌ Failed rows: {failed_rows}\")\n",
        "print(f\"📊 Embedding shape: {embedding.shape}\")\n",
        "\n",
        "# Save embeddings to table\n",
        "embedding_table_id = f\"{PROJECT_ID}.{DATASET_NAME}.{TABLE_NAME}_embeddings\"\n",
        "embedding.to_gbq(embedding_table_id, if_exists=\"replace\")\n",
        "\n",
        "end_time = time.time()\n",
        "print(f\"✅ Generated embeddings in {end_time - start_time:.1f} seconds\")\n",
        "print(f\"📊 Embedding columns: {embedding.columns.tolist()}\")\n",
        "print(f\"💾 Saved embeddings to {embedding_table_id}\")\n"
      ]
    },
    {
      "cell_type": "markdown",
      "metadata": {
        "id": "hdCsf4HPswGZ"
      },
      "source": [
        "## 🔍 Step 5: Vector Search Functions\n"
      ]
    },
    {
      "cell_type": "code",
      "execution_count": null,
      "metadata": {
        "colab": {
          "base_uri": "https://localhost:8080/"
        },
        "id": "cCiGA81cswGa",
        "outputId": "8cfd803e-db2d-45cd-c0fd-87fb625184a6"
      },
      "outputs": [
        {
          "output_type": "stream",
          "name": "stdout",
          "text": [
            "✅ Vector search function ready with bigframes vector_search and PID support!\n"
          ]
        }
      ],
      "source": [
        "def ask_question(question, top_k=5):\n",
        "    \"\"\"\n",
        "    Ask a question and get similar patients using bigframes vector search\n",
        "    Also handles direct PID queries like 'PID 321' or 'tell me about patient 321'\n",
        "    \"\"\"\n",
        "    print(f\"\\n🔍 Searching for: '{question}'\")\n",
        "\n",
        "    # Check if this is a PID query\n",
        "    import re\n",
        "    pid_match = re.search(r'(?:pid|patient)\\s*(\\d+)', question.lower())\n",
        "\n",
        "    if pid_match:\n",
        "        # Direct PID lookup from the embeddings table\n",
        "        pid_number = pid_match.group(1)\n",
        "        print(f\"🎯 Direct PID lookup for Patient ID: {pid_number}\")\n",
        "\n",
        "        try:\n",
        "            # Read from embeddings table and filter by PID\n",
        "            df_written = bpd.read_gbq(EMBEDDING_TABLE_ID)\n",
        "            results = df_written[df_written[\"PID\"] == int(pid_number)]\n",
        "\n",
        "            if len(results) == 0:\n",
        "                print(f\"❌ No patient found with PID {pid_number}\")\n",
        "                return None\n",
        "\n",
        "            print(f\"✅ Found patient with PID {pid_number}:\")\n",
        "\n",
        "            # Convert to pandas for display\n",
        "            results_pd = results.to_pandas()\n",
        "\n",
        "            for i, row in results_pd.iterrows():\n",
        "                print(f\"\\n--- Patient Details ---\")\n",
        "                print(f\"🆔 PID: {row['PID']}\")\n",
        "                print(f\"👤 {row['FirstName']} {row['LastName']}, Age {row['Age']}, {row['Gender']}\")\n",
        "                print(f\"🏠 {row['Address']}\")\n",
        "                print(f\"📅 First Visit: {row['FirstVisit']}\")\n",
        "                print(f\"💊 Full Prescriptions: {row['Prescriptions']}\")\n",
        "\n",
        "            return results_pd\n",
        "\n",
        "        except Exception as e:\n",
        "            print(f\"❌ PID search error: {e}\")\n",
        "            return None\n",
        "\n",
        "    else:\n",
        "        # Semantic vector search using bigframes.bigquery.vector_search\n",
        "        try:\n",
        "            # Generate embedding for the search string\n",
        "            text_model = TextEmbeddingGenerator(model_name=\"text-multilingual-embedding-002\")\n",
        "            search_df = bpd.DataFrame([question], columns=['search_string'])\n",
        "            search_embedding = text_model.predict(search_df)\n",
        "\n",
        "            # Perform vector search using bigframes\n",
        "            vector_search_results = bbq.vector_search(\n",
        "                base_table=EMBEDDING_TABLE_ID,\n",
        "                column_to_search=\"ml_generate_embedding_result\",\n",
        "                query=search_embedding,\n",
        "                distance_type=\"COSINE\",\n",
        "                query_column_to_search=\"ml_generate_embedding_result\",\n",
        "                top_k=top_k,\n",
        "            )\n",
        "\n",
        "            # Get results and convert to pandas for display\n",
        "            results = vector_search_results[[\"PID\", \"FirstName\", \"LastName\", \"Age\", \"Gender\", \"Address\", \"Prescriptions\", \"distance\"]].sort_values(\"distance\")\n",
        "            results_pd = results.to_pandas()\n",
        "\n",
        "            print(f\"✅ Found {len(results_pd)} similar patients:\")\n",
        "\n",
        "            for i, row in results_pd.iterrows():\n",
        "                similarity_percent = round((1 - row['distance']) * 100, 1)\n",
        "                prescriptions_preview = str(row['Prescriptions'])[:100] if row['Prescriptions'] else \"No prescriptions\"\n",
        "\n",
        "                print(f\"\\n--- Match {i+1} ({similarity_percent}% similar) ---\")\n",
        "                print(f\"🆔 PID: {row['PID']}\")\n",
        "                print(f\"👤 {row['FirstName']} {row['LastName']}, Age {row['Age']}, {row['Gender']}\")\n",
        "                print(f\"🏠 {row['Address']}\")\n",
        "                print(f\"💊 {prescriptions_preview}...\")\n",
        "\n",
        "            return results_pd\n",
        "\n",
        "        except Exception as e:\n",
        "            print(f\"❌ Search error: {e}\")\n",
        "            return None\n",
        "\n",
        "print(\"✅ Vector search function ready with bigframes vector_search and PID support!\")\n"
      ]
    },
    {
      "cell_type": "markdown",
      "metadata": {
        "id": "1vmOqHMwswGa"
      },
      "source": [
        "## 🎯 Step 6: Test Vector Search with Medical Queries\n"
      ]
    },
    {
      "cell_type": "code",
      "execution_count": null,
      "metadata": {
        "colab": {
          "base_uri": "https://localhost:8080/",
          "height": 527
        },
        "id": "BUNmpharswGa",
        "outputId": "7e776c55-c91f-41e2-c7f6-343304026014"
      },
      "outputs": [
        {
          "output_type": "stream",
          "name": "stdout",
          "text": [
            "🎯 TESTING VECTOR SEARCH WITH MEDICAL QUERIES\n",
            "============================================================\n",
            "\n",
            "🔍 Searching for: 'Get the medical pricption of Shobha,Agarwal'\n"
          ]
        },
        {
          "output_type": "display_data",
          "data": {
            "text/plain": [
              "<IPython.core.display.HTML object>"
            ],
            "text/html": [
              "Query job 541554c7-9252-4af7-87a3-38fb1d3fa6ee is DONE. 0 Bytes processed. <a target=\"_blank\" href=\"https://console.cloud.google.com/bigquery?project=thinking-bonbon-471314-i4&j=bq:US:541554c7-9252-4af7-87a3-38fb1d3fa6ee&page=queryresults\">Open Job</a>"
            ]
          },
          "metadata": {}
        },
        {
          "output_type": "display_data",
          "data": {
            "text/plain": [
              "<IPython.core.display.HTML object>"
            ],
            "text/html": [
              "Query job f8acef99-b565-49ad-b127-415707d43fbd is DONE. 0 Bytes processed. <a target=\"_blank\" href=\"https://console.cloud.google.com/bigquery?project=thinking-bonbon-471314-i4&j=bq:US:f8acef99-b565-49ad-b127-415707d43fbd&page=queryresults\">Open Job</a>"
            ]
          },
          "metadata": {}
        },
        {
          "output_type": "display_data",
          "data": {
            "text/plain": [
              "<IPython.core.display.HTML object>"
            ],
            "text/html": [
              "Load job f38fe85e-093a-4bc7-8a37-706d3fd71ea5 is DONE. <a target=\"_blank\" href=\"https://console.cloud.google.com/bigquery?project=thinking-bonbon-471314-i4&j=bq:US:f38fe85e-093a-4bc7-8a37-706d3fd71ea5&page=queryresults\">Open Job</a>"
            ]
          },
          "metadata": {}
        },
        {
          "output_type": "stream",
          "name": "stdout",
          "text": [
            "✅ Found 3 similar patients:\n",
            "\n",
            "--- Match 1 (78.3% similar) ---\n",
            "🆔 PID: 431\n",
            "👤 Shobha Agarwal, Age 41, M\n",
            "🏠 807, Hospital Road, Jaipur\n",
            "💊 07/04/22 00:00:00 - 1,2 / 40 size sl sl cp+sil 6x 2 2 // kalibrome 200 hd // 3,4 // 40 size sl sl cp...\n",
            "\n",
            "--- Match 1 (72.1% similar) ---\n",
            "🆔 PID: 443\n",
            "👤 Shobha Jindal, Age 67, M\n",
            "🏠 451, Station Road, Coimbatore\n",
            "💊 02/28/22 00:00:00 - 40 size sl sl echina q 15 15 // sl hd // 15 days 270 extra ;- wheezal soaps  |--...\n",
            "\n",
            "--- Match 1 (71.8% similar) ---\n",
            "🆔 PID: 447\n",
            "👤 Shobha Shah, Age 77, F\n",
            "🏠 371, Market Street, Faridabad\n",
            "💊 12/17/24 00:00:00 - migraine   month pain...\n",
            "\n",
            "----------------------------------------\n",
            "\n",
            "✅ Vector search testing completed!\n"
          ]
        }
      ],
      "source": [
        "# Test vector search with medical queries\n",
        "test_queries = [\n",
        "    \"Get the medical pricption of Shobha,Agarwal\",\n",
        "]\n",
        "\n",
        "print(\"🎯 TESTING VECTOR SEARCH WITH MEDICAL QUERIES\")\n",
        "print(\"=\" * 60)\n",
        "\n",
        "search_results = []\n",
        "for query in test_queries:\n",
        "    results = ask_question(query, top_k=3)\n",
        "\n",
        "    search_results.append(results)\n",
        "    print(\"\\n\" + \"-\" * 40)\n",
        "\n",
        "print(\"\\n✅ Vector search testing completed!\")\n"
      ]
    },
    {
      "cell_type": "markdown",
      "metadata": {
        "id": "dCZCModKswGa"
      },
      "source": [
        "## 🤖 Step 7: AI Analysis with GeminiTextGenerator\n"
      ]
    },
    {
      "cell_type": "code",
      "execution_count": null,
      "metadata": {
        "colab": {
          "base_uri": "https://localhost:8080/",
          "height": 211
        },
        "id": "rXYbA0zBswGa",
        "outputId": "1e97eafd-8f6f-479d-a106-c2fb64bea988"
      },
      "outputs": [
        {
          "output_type": "error",
          "ename": "NameError",
          "evalue": "name 'search_results' is not defined",
          "traceback": [
            "\u001b[0;31m---------------------------------------------------------------------------\u001b[0m",
            "\u001b[0;31mNameError\u001b[0m                                 Traceback (most recent call last)",
            "\u001b[0;32m/tmp/ipython-input-4072230302.py\u001b[0m in \u001b[0;36m<cell line: 0>\u001b[0;34m()\u001b[0m\n\u001b[1;32m     97\u001b[0m \u001b[0;34m\u001b[0m\u001b[0m\n\u001b[1;32m     98\u001b[0m \u001b[0;31m# Test AI analysis on the first search result\u001b[0m\u001b[0;34m\u001b[0m\u001b[0;34m\u001b[0m\u001b[0m\n\u001b[0;32m---> 99\u001b[0;31m \u001b[0;32mif\u001b[0m \u001b[0msearch_results\u001b[0m \u001b[0;32mand\u001b[0m \u001b[0msearch_results\u001b[0m\u001b[0;34m[\u001b[0m\u001b[0;36m0\u001b[0m\u001b[0;34m]\u001b[0m \u001b[0;32mis\u001b[0m \u001b[0;32mnot\u001b[0m \u001b[0;32mNone\u001b[0m\u001b[0;34m:\u001b[0m\u001b[0;34m\u001b[0m\u001b[0;34m\u001b[0m\u001b[0m\n\u001b[0m\u001b[1;32m    100\u001b[0m     \u001b[0mai_analysis\u001b[0m \u001b[0;34m=\u001b[0m \u001b[0mget_ai_analysis\u001b[0m\u001b[0;34m(\u001b[0m\u001b[0msearch_results\u001b[0m\u001b[0;34m[\u001b[0m\u001b[0;36m0\u001b[0m\u001b[0;34m]\u001b[0m\u001b[0;34m,\u001b[0m \u001b[0mtest_queries\u001b[0m\u001b[0;34m[\u001b[0m\u001b[0;36m0\u001b[0m\u001b[0;34m]\u001b[0m\u001b[0;34m)\u001b[0m\u001b[0;34m\u001b[0m\u001b[0;34m\u001b[0m\u001b[0m\n\u001b[1;32m    101\u001b[0m \u001b[0;32melse\u001b[0m\u001b[0;34m:\u001b[0m\u001b[0;34m\u001b[0m\u001b[0;34m\u001b[0m\u001b[0m\n",
            "\u001b[0;31mNameError\u001b[0m: name 'search_results' is not defined"
          ]
        }
      ],
      "source": [
        "def get_ai_analysis(search_results, question):\n",
        "    \"\"\"\n",
        "    Get AI analysis of search results using GeminiTextGenerator with enhanced medical prompt\n",
        "    \"\"\"\n",
        "    if search_results is None or len(search_results) == 0:\n",
        "        return None\n",
        "\n",
        "    print(f\"\\n🤖 Getting AI analysis for: '{question}'\")\n",
        "\n",
        "    try:\n",
        "        # Prepare patient summaries for AI analysis\n",
        "        patient_summaries = []\n",
        "        for _, row in search_results.head(3).iterrows():\n",
        "            summary = (f\"Patient ID: {row.get('PID', 'N/A')} - {row.get('FirstName', 'Unknown')} {row.get('LastName', 'Unknown')}, \"\n",
        "                      f\"Age {row.get('Age', 'N/A')}, Gender {row.get('Gender', 'N/A')}, \"\n",
        "                      f\"Address: {row.get('Address', 'N/A')}, \"\n",
        "                      f\"Prescriptions: {row.get('Prescriptions', 'N/A')}\")\n",
        "            patient_summaries.append(summary)\n",
        "\n",
        "        # Enhanced analysis prompt with homeopathic medicine knowledge\n",
        "        analysis_prompt = f\"\"\"\n",
        "        🏥 HOMEOPATHIC MEDICAL ANALYSIS\n",
        "\n",
        "        Medical Query: \"{question}\"\n",
        "\n",
        "        📋 PRESCRIPTION UNDERSTANDING:\n",
        "        - \"|--|\" separates different prescription visits/dates\n",
        "        - Common homeopathic abbreviations: thy=Thyroidinum, arn=Arnica, bry=Bryonia, lssl=Lycopodium, cp=Carcinosin, mp=Magnesia Phosphorica, np=Natrum Phosphoricum, cf=Calcarea Fluorica, sl=Sac Lac\n",
        "        - Potencies: 30, 200c, 6x indicate medicine strength/dilution levels\n",
        "        - bid=twice daily, tid=three times daily\n",
        "\n",
        "        🔍 MEDICINE-CONDITION MAPPING:\n",
        "        - thy (Thyroidinum) → thyroid disorders, metabolism issues\n",
        "        - arn (Arnica) → trauma, bruises, muscle soreness\n",
        "        - bry (Bryonia) → dry cough, headaches, joint pain\n",
        "        - lssl (Lycopodium) → digestive issues, liver problems\n",
        "        - cp (Carcinosin) → constitutional remedy for chronic conditions\n",
        "        - mp (Magnesia Phos) → muscle cramps, neuralgic pain\n",
        "        arn: Arnica Montana\n",
        "        bry: Bryonia Alba\n",
        "        aco: Aconitum Napellus\n",
        "        ruta: Ruta Graveolens\n",
        "        phyto: Phytolacca Decandra\n",
        "        sulfo: Sulphur\n",
        "        sul: Sulphur\n",
        "        fp: Ferrum Phosphoricum\n",
        "        nm: Natrum Muriaticum\n",
        "        chame: Chamomilla\n",
        "        sl: Sac Lac\n",
        "        thy: Thyroidinum\n",
        "        lssl: Lycopodium Clavatum\n",
        "        cp: Carcinosin\n",
        "        mp: Magnesia Phosphorica\n",
        "        np: Natrum Phosphoricum\n",
        "        kp: Kali Phosphoricum\n",
        "        kpcf: Kali Phosphoricum\n",
        "        tmv: Tuberculinum\n",
        "        nux: Nux Vomica\n",
        "        apis: Apis Mellifica\n",
        "        ylox: Yohimbinum\n",
        "        drom: Drosera Rotundifolia\n",
        "        bid: Twice daily\n",
        "        cf: Calcarea Fluorica\n",
        "        lba: Lachesis\n",
        "        rt: Right side\n",
        "        cbp: Chronic Blood Pressure\n",
        "        rbs: Random Blood Sugar\n",
        "        cc: Carbo Vegetabilis\n",
        "        apd: Argentum Phosphoricum\n",
        "\n",
        "        👥 TOP MATCHING PATIENTS:\n",
        "        {chr(10).join(patient_summaries)}\n",
        "\n",
        "        📊 PROVIDE ANALYSIS:\n",
        "        1. What homeopathic medicines appeared?\n",
        "        2. What medical conditions do these medicines suggest?\n",
        "        3. What insights can you provide about treatment approaches?\n",
        "        4. Any recommendations for similar cases?\n",
        "\n",
        "        Keep the analysis practical and focused on medical insights that would help a homeopathic practitioner.\n",
        "        \"\"\"\n",
        "\n",
        "        # Use GeminiTextGenerator\n",
        "        gemini = GeminiTextGenerator()\n",
        "        prompt_df = bpd.DataFrame({\"prompt\": [analysis_prompt]})\n",
        "        response = gemini.predict(prompt_df)\n",
        "        analysis = response.to_pandas().iloc[0, 0]\n",
        "\n",
        "        print(f\"✅ AI Analysis:\")\n",
        "        print(f\"{analysis}\")\n",
        "        return analysis\n",
        "\n",
        "    except Exception as e:\n",
        "        print(f\"⚠️ AI analysis error: {e}\")\n",
        "        print(\"Note: GeminiTextGenerator may require additional setup or permissions\")\n",
        "        return None\n",
        "\n",
        "# Test AI analysis on the first search result\n",
        "if search_results and search_results[0] is not None:\n",
        "    ai_analysis = get_ai_analysis(search_results[0], test_queries[0])\n",
        "else:\n",
        "    print(\"⚠️ No search results available for AI analysis\")\n"
      ]
    },
    {
      "cell_type": "markdown",
      "metadata": {
        "id": "CagNEO1jswGb"
      },
      "source": [
        "## 🎯 Step 8: Interactive Query Interface\n"
      ]
    },
    {
      "cell_type": "code",
      "execution_count": null,
      "metadata": {
        "id": "OMGS3a6vswGb",
        "colab": {
          "base_uri": "https://localhost:8080/"
        },
        "outputId": "08ab97fe-8263-4d7c-eb12-8183b55d74e3"
      },
      "outputs": [
        {
          "output_type": "stream",
          "name": "stdout",
          "text": [
            "🎯 CUSTOM QUERY EXAMPLES\n",
            "==================================================\n"
          ]
        }
      ],
      "source": []
    },
    {
      "cell_type": "markdown",
      "metadata": {
        "id": "m4Q24KOTswGb"
      },
      "source": [
        "\n",
        "\n",
        "## 🚀 Step 9: Direct Query Without Reprocessing\n"
      ]
    },
    {
      "cell_type": "code",
      "execution_count": null,
      "metadata": {
        "id": "irJRli2bswGb",
        "colab": {
          "base_uri": "https://localhost:8080/"
        },
        "outputId": "7ec66d9f-fd0a-405f-fd76-26d140c24c5f"
      },
      "outputs": [
        {
          "output_type": "stream",
          "name": "stdout",
          "text": [
            "📊 Dataset Status:\n",
            "   Total patients: 500\n",
            "   Patients with embeddings: 500\n",
            "   Successful embeddings: 500\n",
            "   Ready for direct queries: ✅ YES\n",
            "\n",
            "🎉 SUCCESS! Your vector search system is fully operational!\n",
            "\n",
            "📝 You can now:\n",
            "   • Ask medical questions using query_patients()\n",
            "   • Get AI analysis of search results\n",
            "   • Perform time series forecasting\n",
            "   • All without reprocessing embeddings!\n"
          ]
        }
      ],
      "source": [
        "# Verify embeddings are stored and ready for direct queries\n",
        "def check_embeddings_status():\n",
        "    \"\"\"\n",
        "    Check if embeddings are ready for direct queries\n",
        "    \"\"\"\n",
        "    client = bigquery.Client(project=PROJECT_ID)\n",
        "    query = f\"\"\"\n",
        "    SELECT\n",
        "        COUNT(*) as total_patients,\n",
        "        COUNT(ml_generate_embedding_result) as patients_with_embeddings,\n",
        "        COUNT(CASE WHEN ml_generate_embedding_status = '' THEN 1 END) as successful_embeddings\n",
        "    FROM `{EMBEDDING_TABLE_ID}`\n",
        "    \"\"\"\n",
        "\n",
        "    try:\n",
        "        result = client.query(query).to_dataframe()\n",
        "        total = result['total_patients'].iloc[0]\n",
        "        with_embeddings = result['patients_with_embeddings'].iloc[0]\n",
        "        successful = result['successful_embeddings'].iloc[0]\n",
        "\n",
        "        print(f\"📊 Dataset Status:\")\n",
        "        print(f\"   Total patients: {total}\")\n",
        "        print(f\"   Patients with embeddings: {with_embeddings}\")\n",
        "        print(f\"   Successful embeddings: {successful}\")\n",
        "        print(f\"   Ready for direct queries: {'✅ YES' if successful > 0 else '❌ NO'}\")\n",
        "\n",
        "        return successful > 0\n",
        "    except Exception as e:\n",
        "        print(f\"❌ Error checking embeddings status: {e}\")\n",
        "        print(\"   Embeddings table may not exist yet. Run the embedding generation step first.\")\n",
        "        return False\n",
        "\n",
        "# Check status\n",
        "embeddings_ready = check_embeddings_status()\n",
        "\n",
        "if embeddings_ready:\n",
        "    print(f\"\\n🎉 SUCCESS! Your vector search system is fully operational!\")\n",
        "    print(f\"\\n📝 You can now:\")\n",
        "    print(f\"   • Ask medical questions using query_patients()\")\n",
        "    print(f\"   • Get AI analysis of search results\")\n",
        "    print(f\"   • Perform time series forecasting\")\n",
        "    print(f\"   • All without reprocessing embeddings!\")\n",
        "else:\n",
        "    print(f\"\\n⚠️ Embeddings not ready. Please run the embedding generation steps.\")\n"
      ]
    },
    {
      "cell_type": "markdown",
      "metadata": {
        "id": "xLnhV5o1swGc"
      },
      "source": [
        "## 🎯 Step 10: Try Your Own Queries!\n"
      ]
    },
    {
      "cell_type": "code",
      "source": [
        "# Interactive query function for custom questions\n",
        "def query_patients(question, top_k=5, include_ai_analysis=True):\n",
        "    \"\"\"\n",
        "    Complete query function with vector search and optional AI analysis\n",
        "    \"\"\"\n",
        "    print(f\"\\n{'='*60}\")\n",
        "    print(f\"🔍 PATIENT SEARCH QUERY\")\n",
        "    print(f\"{'='*60}\")\n",
        "\n",
        "    # Perform vector search\n",
        "    results = ask_question(question, top_k=top_k)\n",
        "\n",
        "    # Get AI analysis if requested and results exist\n",
        "    if include_ai_analysis and results is not None:\n",
        "        ai_analysis = get_ai_analysis(results, question)\n",
        "\n",
        "    return results\n"
      ],
      "metadata": {
        "id": "Bl6NR0Si5sTj"
      },
      "execution_count": null,
      "outputs": []
    },
    {
      "cell_type": "code",
      "execution_count": null,
      "metadata": {
        "id": "E3-rA3wrswGc",
        "colab": {
          "base_uri": "https://localhost:8080/",
          "height": 1000
        },
        "outputId": "27b5da7d-9654-467e-a8c1-39414fc8fd7d"
      },
      "outputs": [
        {
          "output_type": "stream",
          "name": "stdout",
          "text": [
            "🔍 YOUR CUSTOM QUERY\n",
            "Question: get the medication details of pid 332\n",
            "==================================================\n",
            "\n",
            "============================================================\n",
            "🔍 PATIENT SEARCH QUERY\n",
            "============================================================\n",
            "\n",
            "🔍 Searching for: 'get the medication details of pid 332'\n",
            "🎯 Direct PID lookup for Patient ID: 332\n",
            "✅ Found patient with PID 332:\n",
            "\n",
            "--- Patient Details ---\n",
            "🆔 PID: 332\n",
            "👤 Lata Jain, Age 68, F\n",
            "🏠 74, Bus Stand, Bangalore\n",
            "📅 First Visit: 05/31/23 08:15:11\n",
            "💊 Full Prescriptions: 03/18/14 00:00:00 - pain bellow feet arn 30a nd acofp 30  ry 30 wt65kg  |--| 10/12/19 00:00:00 - c/o constipation , jp ++ // 40 size nux 30 sl sul 30 tid / 1 drtom y lox 1/2 // 15 days 250 |--| 11/01/19 00:00:00 - bry 30 gells 30 / mp 6x 4  4// sang 200 hd // 280 |--| 06/21/21 00:00:00 - 40 size sl sl km6x 2 2 // cp 30 hd wekly // one month 430 extra ;- shanti alfa syp |--| 04/29/25 00:00:00 - skin rash |--| 02/26/18 00:00:00 - middile stodal 3030  |--| 05/11/23 00:00:00 - skin rash good / wrist pain / elbow pain  |--| 10/03/23 00:00:00 - 40 size miristica 30 / ks+cs6x afternoon 4 / pyonia 30 tid // sarsa q 15 15 // ( 10 grams ) gun powder tid // no hd // 15 days 200\n",
            "\n",
            "🤖 Getting AI analysis for: 'get the medication details of pid 332'\n"
          ]
        },
        {
          "output_type": "display_data",
          "data": {
            "text/plain": [
              "<IPython.core.display.HTML object>"
            ],
            "text/html": [
              "Query job b6153b04-ef14-4f89-8430-f0e069328dc3 is DONE. 0 Bytes processed. <a target=\"_blank\" href=\"https://console.cloud.google.com/bigquery?project=thinking-bonbon-471314-i4&j=bq:US:b6153b04-ef14-4f89-8430-f0e069328dc3&page=queryresults\">Open Job</a>"
            ]
          },
          "metadata": {}
        },
        {
          "output_type": "display_data",
          "data": {
            "text/plain": [
              "<IPython.core.display.HTML object>"
            ],
            "text/html": [
              "Load job 8c03a3ff-b8ef-4f31-8c80-41d3a074000d is DONE. <a target=\"_blank\" href=\"https://console.cloud.google.com/bigquery?project=thinking-bonbon-471314-i4&j=bq:US:8c03a3ff-b8ef-4f31-8c80-41d3a074000d&page=queryresults\">Open Job</a>"
            ]
          },
          "metadata": {}
        },
        {
          "output_type": "display_data",
          "data": {
            "text/plain": [
              "<IPython.core.display.HTML object>"
            ],
            "text/html": [
              "Query job df8c6c5b-f0f3-493b-9dab-c3bc11fbf7a5 is DONE. 3.1 kB processed. <a target=\"_blank\" href=\"https://console.cloud.google.com/bigquery?project=thinking-bonbon-471314-i4&j=bq:US:df8c6c5b-f0f3-493b-9dab-c3bc11fbf7a5&page=queryresults\">Open Job</a>"
            ]
          },
          "metadata": {}
        },
        {
          "output_type": "stream",
          "name": "stdout",
          "text": [
            "✅ AI Analysis:\n",
            "Okay, here's an analysis of Lata Jain's prescriptions, focusing on medical insights for a homeopathic practitioner:\n",
            "\n",
            "**Analysis of Lata Jain's Homeopathic Treatment (Patient ID: 332)**\n",
            "\n",
            "**1. Homeopathic Medicines Prescribed:**\n",
            "\n",
            "*   **03/18/14:** Arnica Montana (arn 30a), Aconitum Napellus/Ferrum Phosphoricum (acofp 30), Bryonia (ry 30)\n",
            "*   **10/12/19:** Nux Vomica (nux 30), Sulphur (sul 30), Drosera Rotundifolia (drom), Yohimbinum (ylox), Sac Lac (sl)\n",
            "*   **11/01/19:** Bryonia (bry 30), Gelsemium Sempervirens (gells 30), Magnesia Phosphorica (mp 6x), Sanguinaria Canadensis (sang 200 hd)\n",
            "*   **06/21/21:** Kali Muriaticum (km6x), Carcinosin (cp 30 hd), Sac Lac (sl), Alfa Syp (likely alfalfa syrup - not a homeopathic medicine, but a tonic)\n",
            "*   **10/03/23:** Miristica Sebifera (miristica 30), Ks+Cs6x (likely a combination remedy, needs clarification of components), Paeonia Officinalis (pyonia 30), Sarsaparilla (sarsa q), Gunpowder (likely a low potency preparation, origin needs clarification) : no hd (no headache)\n",
            "*   **02/26/18:** Stodal 3030 (likely a commercial homeopathic cough syrup)\n",
            "\n",
            "**2. Medical Conditions Suggested by Medicines:**\n",
            "\n",
            "Here's an interpretation of the symptoms the remedies address, based on the standard homeopathic Materia Medica:\n",
            "\n",
            "*   **Pain and Trauma (Initial Presentation - 03/18/14):** Arnica suggests muscle pain, bruising or trauma, possibly related to feet. Bryonia suggests pain aggravated by motion , which might be joint pain or pain in the feet. Aconite/Ferrum Phos combination suggests acute pain with inflammation or feverishness (less specific without more context).\n",
            "*   **Constipation and Digestive Issues (10/12/19):** Nux Vomica points to constipation with ineffectual urging, irritability, and digestive upset. Sulphur is a broad remedy for skin and digestive problems, often with itching and burning sensations. Drosera is typically for cough, this is an unusual usage. Yohimbinum might be related to libido or circulation issues .\n",
            "*   **Pain and Nervous System (11/01/19):** Bryonia reinforces possible joint pain, headaches, or dry coughs. Gelsemium suggests weakness, trembling, and anxiety, Magnesia Phosphorica indicates nerve pain and cramps, potentially related to the earlier foot pain. Sanguinaria is used for headaches, migraines, and possibly circulatory problems.\n",
            "*   **Constitutional Support and Possible Chronic Condition (06/21/21):** Carcinosin suggests a deeper, chronic underlying issue, potentially with a family history of cancer or chronic illness. Kali Muriaticum may suggest mucous membrane issues.\n",
            "*   **Skin Issues, Joint Pain, Inflammation (10/03/23) :** Miristica may be for inflammation and pain, especially in fingers. Ks+Cs6x needs further clarification. Paeonia is often used for anal fissures, hemorrhoids, and painful skin conditions. Sarsaparilla often used for skin issues and urinary problems. Gunpowder - suggests infection, deep seated inflammation.\n",
            "*   **Cough (02/26/18):** Stodal indicates an apparent cough or cold.\n",
            "\n",
            "**3. Insights into Treatment Approaches:**\n",
            "\n",
            "*   **Acute vs. Chronic:** There's a mix of acute remedies (Arnica, Aconite/Ferrum Phos, Bryonia for pain) and more constitutional remedies (Sulphur, Carcinosin). This suggests the practitioner is addressing both immediate complaints and underlying imbalances.\n",
            "*   **Polypharmacy Concerns:** Some prescriptions (especially 10/12/19) include multiple remedies. While combination remedies are sometimes used, it's important to understand the specific indications for each medicine to avoid confusing the symptom picture.\n",
            "*   **Potency Selection:** The use of 30c, 200c, and 6x potencies suggests the practitioner is varying potency based on the nature of the complaint (acute vs. chronic) and the patient's sensitivity.\n",
            "*   **Inconsistency:** The varying reasons for consultations and medicines may indicate that the patient's root problem may not have been addressed.\n",
            "\n",
            "**4. Recommendations for Similar Cases:**\n",
            "\n",
            "*   **Detailed Case Taking:**  A thorough case history is crucial. Focus on the patient's mental/emotional state, modalities (what makes symptoms better or worse), and any recurring patterns.\n",
            "*   **Repertorization:** Use a repertory (either traditional or computerized) to analyze the totality of symptoms and identify the most similar remedy.\n",
            "*   **Single Remedy Focus:**  Consider focusing on a single, well-indicated remedy that covers the majority of the patient's symptoms, rather than multiple remedies at once. This simplifies the symptom picture and allows for a clearer assessment of the remedy's action.\n",
            "*   **Follow-Up and Observation:**  Careful follow-up is essential to assess the patient's response to the remedy.  Pay attention to any changes in symptoms (aggravation, amelioration, new symptoms) and adjust the treatment accordingly.\n",
            "*   **Address Lifestyle Factors:**  Consider lifestyle factors that may be contributing to the patient's health problems (diet, stress, sleep, etc.).\n",
            "*   **Clarify Unclear Abbreviations:**  Clarify what \"ks+cs6x\" and \"hd\" abbreviations mean to ensure accurate prescription understanding and avoid any potential mistakes.\n",
            "\n",
            "This analysis provides a starting point for understanding Lata Jain's homeopathic treatment. A deeper dive into her individual case details is necessary for optimal treatment.\n",
            "\n",
            "\n",
            "✅ Query completed! Found 1 results.\n"
          ]
        }
      ],
      "source": [
        "# Try your own custom query here!\n",
        "# Modify the question below and run this cell\n",
        "\n",
        "YOUR_QUESTION = \"get the medication details of pid 332\"  # 🔄 CHANGE THIS TO YOUR QUESTION\n",
        "\n",
        "print(f\"🔍 YOUR CUSTOM QUERY\")\n",
        "print(f\"Question: {YOUR_QUESTION}\")\n",
        "print(f\"=\" * 50)\n",
        "\n",
        "# Run your query\n",
        "your_results = query_patients(YOUR_QUESTION, top_k=5, include_ai_analysis=True)\n",
        "\n",
        "print(f\"\\n✅ Query completed! Found {len(your_results) if your_results is not None else 0} results.\")\n"
      ]
    },
    {
      "cell_type": "markdown",
      "metadata": {
        "id": "module1_summary"
      },
      "source": [
        "---\n",
        "\n",
        " ## **Core BigFrames Implementation**\n",
        "\n",
        "---\n",
        "\n",
        "\n",
        "#### 🏗️ **Infrastructure Setup**\n",
        "-  **BigFrames Environment**: Fully configured for medical data processing\n",
        "-  **BigQuery Integration**: Cloud data warehouse ready for large-scale operations\n",
        "-  **Authentication**: Secure access to Google Cloud services\n",
        "\n",
        "#### 📊 **Data Processing**\n",
        "-  **Patient Data Loading**: 500+ patient records with rich descriptions\n",
        "-  **Vector Embeddings**: Semantic representations generated and stored\n",
        "-  **Data Quality**: Clean, structured patient information ready for analysis\n",
        "\n",
        "#### 🔍 **Search Capabilities**\n",
        "-  **Vector Search**: Semantic similarity matching for patient queries\n",
        "-  **AI Analysis**: GeminiTextGenerator integration for intelligent insights\n",
        "-  **Direct Queries**: No need to reprocess data for future searches\n"
      ]
    }
  ],
  "metadata": {
    "colab": {
      "provenance": []
    },
    "kernelspec": {
      "display_name": "Python 3",
      "name": "python3"
    },
    "language_info": {
      "name": "python"
    }
  },
  "nbformat": 4,
  "nbformat_minor": 0
}